{
 "cells": [
  {
   "attachments": {},
   "cell_type": "markdown",
   "metadata": {},
   "source": [
    "## Solving the LINE problem with a single perceptron"
   ]
  },
  {
   "cell_type": "code",
   "execution_count": 6,
   "metadata": {},
   "outputs": [],
   "source": [
    "# imports\n",
    "\n",
    "import torch\n",
    "import torch.nn as nn\n",
    "import torch.nn.functional as F\n",
    "import torch.optim as optim\n",
    "\n",
    "device = 'cuda' if torch.cuda.is_available() else 'cpu'"
   ]
  },
  {
   "cell_type": "code",
   "execution_count": 7,
   "metadata": {},
   "outputs": [],
   "source": [
    "# line equation: y = w*x + c\n",
    "w = 3\n",
    "c = 5\n",
    "X = torch.FloatTensor([[0], [1], [2], [3], [4], [5], [6], [7], [8], [9], [10], [11]]).to(device)\n",
    "Y = torch.FloatTensor([[w*x+c] for x in range(12)]).to(device)\n",
    "# Y = torch.FloatTensor([[5], [8], [11], [14], [17], [20], [23], [26], [29], [32], [35], [38]]).to(device) # 3x+5"
   ]
  },
  {
   "cell_type": "code",
   "execution_count": 8,
   "metadata": {},
   "outputs": [],
   "source": [
    "# Perceptron model\n",
    "model = nn.Sequential(\n",
    "            nn.Linear(1, 1, bias=True),\n",
    "        ).to(device)"
   ]
  },
  {
   "attachments": {},
   "cell_type": "markdown",
   "metadata": {},
   "source": [
    "nn.Linear = Applies a linear transformation to the incoming data: Y = w*X^T+b\n",
    "\n",
    "References:\n",
    "\n",
    "https://pytorch.org/docs/stable/generated/torch.nn.Sigmoid.html"
   ]
  },
  {
   "cell_type": "code",
   "execution_count": 9,
   "metadata": {},
   "outputs": [
    {
     "name": "stdout",
     "output_type": "stream",
     "text": [
      "Starting weights: Parameter containing:\n",
      "tensor([[-0.0847]], requires_grad=True)\n",
      "Starting bias: Parameter containing:\n",
      "tensor([0.0938], requires_grad=True)\n"
     ]
    }
   ],
   "source": [
    "print(\"Starting weights: {}\".format(model[0].weight))\n",
    "print(\"Starting bias: {}\".format(model[0].bias))"
   ]
  },
  {
   "attachments": {},
   "cell_type": "markdown",
   "metadata": {},
   "source": [
    "#### loss and optimizer\n",
    "loss: loss function is a method of evaluating how well your machine learning algorithm models your featured data set.\n",
    "\n",
    "optimizer: optimizers are algorithms or methods used to change the parameters of your neural network such as weights and learning rate in order to reduce the loss.\n",
    "\n",
    "MSELoss: $\\frac{1}{n}\\sum (y - \\hat{y})^2$"
   ]
  },
  {
   "cell_type": "code",
   "execution_count": 10,
   "metadata": {},
   "outputs": [],
   "source": [
    "criterion = nn.MSELoss()\n",
    "optimizer = optim.SGD(model.parameters(), lr=0.01)"
   ]
  },
  {
   "cell_type": "code",
   "execution_count": 11,
   "metadata": {},
   "outputs": [
    {
     "name": "stdout",
     "output_type": "stream",
     "text": [
      "step: 0  loss: 591.7714233398438\n",
      "step: 200  loss: 0.5956520438194275\n",
      "step: 400  loss: 0.06411401927471161\n",
      "step: 600  loss: 0.006900938227772713\n",
      "step: 800  loss: 0.0007428228855133057\n",
      "step: 1000  loss: 7.994820771273226e-05\n",
      "step: 1200  loss: 8.610940312792081e-06\n",
      "step: 1400  loss: 9.256872885998746e-07\n",
      "step: 1600  loss: 1.0014628060162067e-07\n",
      "step: 1800  loss: 1.089832313283523e-08\n",
      "step: 2000  loss: 1.2727620068986312e-09\n",
      "step: 2200  loss: 5.492021837305572e-10\n",
      "step: 2400  loss: 5.492021837305572e-10\n",
      "step: 2600  loss: 5.492021837305572e-10\n",
      "step: 2800  loss: 5.492021837305572e-10\n",
      "step: 3000  loss: 5.492021837305572e-10\n",
      "step: 3200  loss: 5.492021837305572e-10\n",
      "step: 3400  loss: 5.492021837305572e-10\n",
      "step: 3600  loss: 5.492021837305572e-10\n",
      "step: 3800  loss: 5.492021837305572e-10\n",
      "step: 4000  loss: 5.492021837305572e-10\n",
      "step: 4200  loss: 5.492021837305572e-10\n",
      "step: 4400  loss: 5.492021837305572e-10\n",
      "step: 4600  loss: 5.492021837305572e-10\n",
      "step: 4800  loss: 5.492021837305572e-10\n"
     ]
    }
   ],
   "source": [
    "for step in range(5000):\n",
    "    pred = model(X)\n",
    "    loss = criterion(pred, Y)\n",
    "    \n",
    "    optimizer.zero_grad()\n",
    "    loss.backward()\n",
    "    optimizer.step()\n",
    "    \n",
    "    if step % 200==0:\n",
    "        print('step:', step, \" loss:\", loss.item())"
   ]
  },
  {
   "cell_type": "code",
   "execution_count": 12,
   "metadata": {},
   "outputs": [
    {
     "name": "stdout",
     "output_type": "stream",
     "text": [
      "tensor([[ 5.0000],\n",
      "        [ 8.0000],\n",
      "        [11.0000],\n",
      "        [14.0000],\n",
      "        [17.0000],\n",
      "        [20.0000],\n",
      "        [23.0000],\n",
      "        [26.0000],\n",
      "        [29.0000],\n",
      "        [32.0000],\n",
      "        [35.0000],\n",
      "        [38.0000]], grad_fn=<AddmmBackward0>)\n"
     ]
    }
   ],
   "source": [
    "pred = model(X)\n",
    "print(pred)"
   ]
  },
  {
   "cell_type": "code",
   "execution_count": 13,
   "metadata": {},
   "outputs": [
    {
     "name": "stdout",
     "output_type": "stream",
     "text": [
      "tensor([[41.0000]], grad_fn=<AddmmBackward0>)\n"
     ]
    }
   ],
   "source": [
    "new_value = torch.FloatTensor([[12]]).to(device)\n",
    "new_pred = model(new_value)\n",
    "print(new_pred)"
   ]
  },
  {
   "cell_type": "code",
   "execution_count": 14,
   "metadata": {},
   "outputs": [
    {
     "name": "stdout",
     "output_type": "stream",
     "text": [
      "Learned weights: Parameter containing:\n",
      "tensor([[3.0000]], requires_grad=True)\n",
      "Learned bias: Parameter containing:\n",
      "tensor([5.0000], requires_grad=True)\n"
     ]
    }
   ],
   "source": [
    "print(\"Learned weights: {}\".format(model[0].weight))\n",
    "print(\"Learned bias: {}\".format(model[0].bias))"
   ]
  },
  {
   "attachments": {},
   "cell_type": "markdown",
   "metadata": {},
   "source": [
    "## Solving OR problem with a single perceptron\n",
    "\n",
    "| x1 | x2 | y |\n",
    "|:--:|:--:|:-:|\n",
    "|  0 |  0 | 0 |\n",
    "|  0 |  1 | 1 |\n",
    "|  1 |  0 | 1 |\n",
    "|  1 |  1 | 1 |"
   ]
  },
  {
   "cell_type": "code",
   "execution_count": 15,
   "metadata": {},
   "outputs": [],
   "source": [
    "X = torch.FloatTensor([[0, 0], [0, 1], [1, 0], [1, 1]]).to(device)\n",
    "Y = torch.FloatTensor([[0], [1], [1], [1]]).to(device)"
   ]
  },
  {
   "cell_type": "code",
   "execution_count": 16,
   "metadata": {},
   "outputs": [],
   "source": [
    "model = nn.Sequential(\n",
    "            nn.Linear(2, 1, bias=True), \n",
    "            nn.Sigmoid()\n",
    "        ).to(device)"
   ]
  },
  {
   "attachments": {},
   "cell_type": "markdown",
   "metadata": {},
   "source": [
    "nn.Sigmoid: Applies the element-wise sigmoid function\n",
    "\n",
    "<img src=\"https://pytorch.org/docs/stable/_images/Sigmoid.png\">\n",
    "\n",
    "References:\n",
    "\n",
    "https://pytorch.org/docs/stable/generated/torch.nn.Sigmoid.html"
   ]
  },
  {
   "cell_type": "code",
   "execution_count": 17,
   "metadata": {},
   "outputs": [],
   "source": [
    "criterion = nn.MSELoss()\n",
    "optimizer = optim.SGD(model.parameters(), lr=0.1)"
   ]
  },
  {
   "attachments": {},
   "cell_type": "markdown",
   "metadata": {},
   "source": [
    "detach() method in PyTorch is used to separate a tensor from the computational graph by returning a new tensor that doesn't require a gradient"
   ]
  },
  {
   "cell_type": "code",
   "execution_count": 18,
   "metadata": {},
   "outputs": [
    {
     "name": "stdout",
     "output_type": "stream",
     "text": [
      "step: 0  loss: 0.27716168761253357\n",
      "step: 200  loss: 0.13419890403747559\n",
      "step: 400  loss: 0.09554823487997055\n",
      "step: 600  loss: 0.07027576863765717\n",
      "step: 800  loss: 0.05406546592712402\n",
      "step: 1000  loss: 0.04316125065088272\n",
      "step: 1200  loss: 0.035481590777635574\n",
      "step: 1400  loss: 0.029862724244594574\n",
      "step: 1600  loss: 0.025619126856327057\n",
      "step: 1800  loss: 0.022327441722154617\n",
      "step: 2000  loss: 0.019715631380677223\n",
      "step: 2200  loss: 0.01760271191596985\n",
      "step: 2400  loss: 0.015864599496126175\n",
      "step: 2600  loss: 0.014413982629776001\n",
      "step: 2800  loss: 0.013187849894165993\n",
      "step: 3000  loss: 0.012139886617660522\n",
      "step: 3200  loss: 0.011235333979129791\n",
      "step: 3400  loss: 0.010447720997035503\n",
      "step: 3600  loss: 0.009756513871252537\n",
      "step: 3800  loss: 0.00914565660059452\n",
      "step: 4000  loss: 0.00860233511775732\n",
      "step: 4200  loss: 0.008116321638226509\n",
      "step: 4400  loss: 0.007679269183427095\n",
      "step: 4600  loss: 0.007284358609467745\n",
      "step: 4800  loss: 0.0069259474985301495\n"
     ]
    }
   ],
   "source": [
    "losses = []\n",
    "for step in range(5000):\n",
    "    pred = model(X)\n",
    "    loss = criterion(pred, Y)\n",
    "    losses.append(loss.cpu().detach().numpy())\n",
    "    \n",
    "    optimizer.zero_grad()\n",
    "    loss.backward()\n",
    "    optimizer.step()\n",
    "    \n",
    "    if step % 200==0:\n",
    "        print('step:', step, \" loss:\", loss.item())"
   ]
  },
  {
   "cell_type": "code",
   "execution_count": 19,
   "metadata": {},
   "outputs": [
    {
     "data": {
      "image/png": "[encoded data removed]",
      "text/plain": [
       "<Figure size 640x480 with 1 Axes>"
      ]
     },
     "metadata": {},
     "output_type": "display_data"
    }
   ],
   "source": [
    "import matplotlib.pyplot as plt\n",
    "plt.plot(list(range(5000)), losses)\n",
    "plt.title(\"Loss graph\")\n",
    "plt.xlabel(\"Loss\")\n",
    "plt.ylabel(\"Steps\")\n",
    "plt.show()"
   ]
  },
  {
   "cell_type": "code",
   "execution_count": 20,
   "metadata": {},
   "outputs": [
    {
     "name": "stdout",
     "output_type": "stream",
     "text": [
      "tensor([[0.1227],\n",
      "        [0.9248],\n",
      "        [0.9247],\n",
      "        [0.9991]], grad_fn=<SigmoidBackward0>)\n"
     ]
    }
   ],
   "source": [
    "pred = model(X)\n",
    "print(pred)"
   ]
  },
  {
   "attachments": {},
   "cell_type": "markdown",
   "metadata": {},
   "source": [
    "Thresholding to obtain the 0 or 1 as final output"
   ]
  },
  {
   "cell_type": "code",
   "execution_count": 21,
   "metadata": {},
   "outputs": [
    {
     "name": "stdout",
     "output_type": "stream",
     "text": [
      "tensor([[0],\n",
      "        [1],\n",
      "        [1],\n",
      "        [1]])\n"
     ]
    }
   ],
   "source": [
    "out = 1 * (pred >= 0.5)\n",
    "print(out)"
   ]
  },
  {
   "attachments": {},
   "cell_type": "markdown",
   "metadata": {},
   "source": [
    "## Solving AND problem with a single perceptron\n",
    "\n",
    "| x1 | x2 | y |\n",
    "|:--:|:--:|:-:|\n",
    "|  0 |  0 | 0 |\n",
    "|  0 |  1 | 0 |\n",
    "|  1 |  0 | 0 |\n",
    "|  1 |  1 | 1 |"
   ]
  },
  {
   "cell_type": "code",
   "execution_count": 22,
   "metadata": {},
   "outputs": [],
   "source": [
    "X = torch.FloatTensor([[0, 0], [0, 1], [1, 0], [1, 1]]).to(device)\n",
    "Y = torch.FloatTensor([[0], [0], [0], [1]]).to(device)"
   ]
  },
  {
   "cell_type": "code",
   "execution_count": 23,
   "metadata": {},
   "outputs": [],
   "source": [
    "# Perceptron model\n",
    "model = nn.Sequential(\n",
    "            nn.Linear(2, 1, bias=True), \n",
    "            nn.Sigmoid()\n",
    "        ).to(device)"
   ]
  },
  {
   "cell_type": "code",
   "execution_count": 24,
   "metadata": {},
   "outputs": [],
   "source": [
    "criterion = nn.MSELoss()\n",
    "optimizer = optim.SGD(model.parameters(), lr=0.1)"
   ]
  },
  {
   "cell_type": "code",
   "execution_count": 25,
   "metadata": {},
   "outputs": [
    {
     "name": "stdout",
     "output_type": "stream",
     "text": [
      "step: 0  loss: 0.25653108954429626\n",
      "step: 200  loss: 0.13757610321044922\n",
      "step: 400  loss: 0.10198543965816498\n",
      "step: 600  loss: 0.08134676516056061\n",
      "step: 800  loss: 0.06758159399032593\n",
      "step: 1000  loss: 0.05760449171066284\n",
      "step: 1200  loss: 0.050001829862594604\n",
      "step: 1400  loss: 0.04401392489671707\n",
      "step: 1600  loss: 0.03918379917740822\n",
      "step: 1800  loss: 0.03521473705768585\n",
      "step: 2000  loss: 0.031903669238090515\n",
      "step: 2200  loss: 0.029106147587299347\n",
      "step: 2400  loss: 0.026716485619544983\n",
      "step: 2600  loss: 0.0246555358171463\n",
      "step: 2800  loss: 0.022862877696752548\n",
      "step: 3000  loss: 0.021291635930538177\n",
      "step: 3200  loss: 0.019905030727386475\n",
      "step: 3400  loss: 0.018673717975616455\n",
      "step: 3600  loss: 0.017574124038219452\n",
      "step: 3800  loss: 0.01658707857131958\n",
      "step: 4000  loss: 0.01569683849811554\n",
      "step: 4200  loss: 0.014890419319272041\n",
      "step: 4400  loss: 0.014156978577375412\n",
      "step: 4600  loss: 0.01348742377012968\n",
      "step: 4800  loss: 0.012874063104391098\n"
     ]
    }
   ],
   "source": [
    "for step in range(5000):\n",
    "    pred = model(X)\n",
    "    loss = criterion(pred, Y)\n",
    "    \n",
    "    optimizer.zero_grad()\n",
    "    loss.backward()\n",
    "    optimizer.step()\n",
    "    \n",
    "    if step % 200==0:\n",
    "        print('step:', step, \" loss:\", loss.item())"
   ]
  },
  {
   "cell_type": "code",
   "execution_count": 26,
   "metadata": {},
   "outputs": [
    {
     "name": "stdout",
     "output_type": "stream",
     "text": [
      "tensor([[0.0031],\n",
      "        [0.1196],\n",
      "        [0.1196],\n",
      "        [0.8564]], grad_fn=<SigmoidBackward0>)\n"
     ]
    }
   ],
   "source": [
    "pred = model(X)\n",
    "print(pred)"
   ]
  },
  {
   "cell_type": "code",
   "execution_count": 27,
   "metadata": {},
   "outputs": [
    {
     "name": "stdout",
     "output_type": "stream",
     "text": [
      "tensor([[0],\n",
      "        [0],\n",
      "        [0],\n",
      "        [1]])\n"
     ]
    }
   ],
   "source": [
    "out = 1 * (pred >= 0.5)\n",
    "print(out)"
   ]
  },
  {
   "attachments": {},
   "cell_type": "markdown",
   "metadata": {},
   "source": [
    "## Solving XOR problem with a single perceptron\n",
    "\n",
    "| x1 | x2 | y |\n",
    "|:--:|:--:|:-:|\n",
    "|  0 |  0 | 0 |\n",
    "|  0 |  1 | 1 |\n",
    "|  1 |  0 | 1 |\n",
    "|  1 |  1 | 0 |"
   ]
  },
  {
   "cell_type": "code",
   "execution_count": 28,
   "metadata": {},
   "outputs": [],
   "source": [
    "X = torch.FloatTensor([[0, 0], [0, 1], [1, 0], [1, 1]]).to(device)\n",
    "Y = torch.FloatTensor([[0], [1], [1], [0]]).to(device)"
   ]
  },
  {
   "cell_type": "code",
   "execution_count": 29,
   "metadata": {},
   "outputs": [],
   "source": [
    "# Perceptron model\n",
    "model = nn.Sequential(\n",
    "            nn.Linear(2, 1, bias=True), \n",
    "            nn.Sigmoid()\n",
    "        ).to(device)"
   ]
  },
  {
   "cell_type": "code",
   "execution_count": 30,
   "metadata": {},
   "outputs": [],
   "source": [
    "criterion = nn.MSELoss()\n",
    "optimizer = optim.SGD(model.parameters(), lr=0.1)"
   ]
  },
  {
   "cell_type": "code",
   "execution_count": 31,
   "metadata": {},
   "outputs": [
    {
     "name": "stdout",
     "output_type": "stream",
     "text": [
      "step: 0  loss: 0.25591152906417847\n",
      "step: 200  loss: 0.252138614654541\n",
      "step: 400  loss: 0.25082147121429443\n",
      "step: 600  loss: 0.25033384561538696\n",
      "step: 800  loss: 0.250141441822052\n",
      "step: 1000  loss: 0.25006160140037537\n",
      "step: 1200  loss: 0.25002726912498474\n",
      "step: 1400  loss: 0.25001221895217896\n",
      "step: 1600  loss: 0.2500055134296417\n",
      "step: 1800  loss: 0.2500024735927582\n",
      "step: 2000  loss: 0.25000113248825073\n",
      "step: 2200  loss: 0.250000536441803\n",
      "step: 2400  loss: 0.2500002384185791\n",
      "step: 2600  loss: 0.25000011920928955\n",
      "step: 2800  loss: 0.2500000596046448\n",
      "step: 3000  loss: 0.25\n",
      "step: 3200  loss: 0.25\n",
      "step: 3400  loss: 0.2499999850988388\n",
      "step: 3600  loss: 0.2499999850988388\n",
      "step: 3800  loss: 0.25\n",
      "step: 4000  loss: 0.25\n",
      "step: 4200  loss: 0.25\n",
      "step: 4400  loss: 0.25\n",
      "step: 4600  loss: 0.25\n",
      "step: 4800  loss: 0.2499999850988388\n"
     ]
    }
   ],
   "source": [
    "for step in range(5000):\n",
    "    pred = model(X)\n",
    "    loss = criterion(pred, Y)\n",
    "    \n",
    "    optimizer.zero_grad()\n",
    "    loss.backward()\n",
    "    optimizer.step()\n",
    "    \n",
    "    if step % 200==0:\n",
    "        print('step:', step, \" loss:\", loss.item())"
   ]
  },
  {
   "cell_type": "code",
   "execution_count": 32,
   "metadata": {},
   "outputs": [
    {
     "name": "stdout",
     "output_type": "stream",
     "text": [
      "tensor([[0.5000],\n",
      "        [0.5000],\n",
      "        [0.5000],\n",
      "        [0.5000]], grad_fn=<SigmoidBackward0>)\n"
     ]
    }
   ],
   "source": [
    "pred = model(X)\n",
    "print(pred)"
   ]
  },
  {
   "cell_type": "code",
   "execution_count": 33,
   "metadata": {},
   "outputs": [],
   "source": [
    "# Perceptron model\n",
    "model = nn.Sequential(\n",
    "            nn.Linear(2, 2, bias=True),\n",
    "            nn.Sigmoid(),\n",
    "            nn.Linear(2, 1, bias=True), \n",
    "        ).to(device)"
   ]
  },
  {
   "cell_type": "code",
   "execution_count": 34,
   "metadata": {},
   "outputs": [],
   "source": [
    "criterion = nn.MSELoss()\n",
    "optimizer = optim.SGD(model.parameters(), lr=0.1)"
   ]
  },
  {
   "cell_type": "code",
   "execution_count": 35,
   "metadata": {},
   "outputs": [
    {
     "name": "stdout",
     "output_type": "stream",
     "text": [
      "step: 0  loss: 0.5409697890281677\n",
      "step: 200  loss: 0.2506268620491028\n",
      "step: 400  loss: 0.2503598928451538\n",
      "step: 600  loss: 0.25022217631340027\n",
      "step: 800  loss: 0.250143826007843\n",
      "step: 1000  loss: 0.2500961124897003\n",
      "step: 1200  loss: 0.2500656843185425\n",
      "step: 1400  loss: 0.250045508146286\n",
      "step: 1600  loss: 0.2500317096710205\n",
      "step: 1800  loss: 0.25002193450927734\n",
      "step: 2000  loss: 0.2500147819519043\n",
      "step: 2200  loss: 0.2500094175338745\n",
      "step: 2400  loss: 0.25000518560409546\n",
      "step: 2600  loss: 0.2500017285346985\n",
      "step: 2800  loss: 0.2499987632036209\n",
      "step: 3000  loss: 0.249996155500412\n",
      "step: 3200  loss: 0.2499937117099762\n",
      "step: 3400  loss: 0.24999135732650757\n",
      "step: 3600  loss: 0.24998901784420013\n",
      "step: 3800  loss: 0.24998661875724792\n",
      "step: 4000  loss: 0.24998405575752258\n",
      "step: 4200  loss: 0.24998128414154053\n",
      "step: 4400  loss: 0.24997824430465698\n",
      "step: 4600  loss: 0.24997484683990479\n",
      "step: 4800  loss: 0.24997097253799438\n"
     ]
    }
   ],
   "source": [
    "for step in range(5000):\n",
    "    pred = model(X)\n",
    "    loss = criterion(pred, Y)\n",
    "    \n",
    "    optimizer.zero_grad()\n",
    "    loss.backward()\n",
    "    optimizer.step()\n",
    "    \n",
    "    if step % 200==0:\n",
    "        print('step:', step, \" loss:\", loss.item())"
   ]
  },
  {
   "cell_type": "code",
   "execution_count": 36,
   "metadata": {},
   "outputs": [
    {
     "name": "stdout",
     "output_type": "stream",
     "text": [
      "tensor([[0.4968],\n",
      "        [0.5011],\n",
      "        [0.4991],\n",
      "        [0.5032]], grad_fn=<AddmmBackward0>)\n"
     ]
    }
   ],
   "source": [
    "pred = model(X)\n",
    "print(pred)"
   ]
  },
  {
   "cell_type": "code",
   "execution_count": 37,
   "metadata": {},
   "outputs": [
    {
     "name": "stdout",
     "output_type": "stream",
     "text": [
      "tensor([[0],\n",
      "        [1],\n",
      "        [0],\n",
      "        [1]])\n"
     ]
    }
   ],
   "source": [
    "out = 1 * (pred >= 0.5)\n",
    "print(out)"
   ]
  }
 ],
 "metadata": {
  "kernelspec": {
   "display_name": "vi",
   "language": "python",
   "name": "python3"
  },
  "language_info": {
   "codemirror_mode": {
    "name": "ipython",
    "version": 3
   },
   "file_extension": ".py",
   "mimetype": "text/x-python",
   "name": "python",
   "nbconvert_exporter": "python",
   "pygments_lexer": "ipython3",
   "version": "3.8.10"
  },
  "orig_nbformat": 4,
  "vscode": {
   "interpreter": {
    "hash": "fb41d5f3b6287522a8101e9df2ff5c7654649e30b04e8911d8b922634c042846"
   }
  }
 },
 "nbformat": 4,
 "nbformat_minor": 2
}
