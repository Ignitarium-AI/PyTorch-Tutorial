{
 "cells": [
  {
   "attachments": {},
   "cell_type": "markdown",
   "metadata": {},
   "source": [
    "## Solving the LINE problem with a single perceptron"
   ]
  },
  {
   "cell_type": "code",
   "execution_count": 33,
   "metadata": {},
   "outputs": [
    {
     "data": {
      "text/plain": [
       "'cpu'"
      ]
     },
     "execution_count": 33,
     "metadata": {},
     "output_type": "execute_result"
    }
   ],
   "source": [
    "# imports\n",
    "\n",
    "import torch\n",
    "import torch.nn as nn\n",
    "import torch.nn.functional as F\n",
    "import torch.optim as optim\n",
    "\n",
    "device = \"cuda\" if torch.cuda.is_available() else \"cpu\"\n",
    "device"
   ]
  },
  {
   "cell_type": "code",
   "execution_count": 2,
   "metadata": {},
   "outputs": [],
   "source": [
    "# line equation: y = w*x + c\n",
    "w = 3\n",
    "c = 5\n",
    "X = torch.FloatTensor(\n",
    "    [[0], [1], [2], [3], [4], [5], [6], [7], [8], [9], [10], [11]]\n",
    ").to(device)\n",
    "Y = torch.FloatTensor([[w * x + c] for x in range(12)]).to(device)\n",
    "# Y = torch.FloatTensor([[5], [8], [11], [14], [17], [20], [23], [26], [29], [32], [35], [38]]).to(device) # 3x+5"
   ]
  },
  {
   "cell_type": "code",
   "execution_count": 3,
   "metadata": {},
   "outputs": [],
   "source": [
    "# Perceptron model\n",
    "model = nn.Sequential(\n",
    "    nn.Linear(1, 1, bias=True),\n",
    ").to(device)"
   ]
  },
  {
   "attachments": {},
   "cell_type": "markdown",
   "metadata": {},
   "source": [
    "nn.Linear = Applies a linear transformation to the incoming data: Y = w*X^T+b\n",
    "\n",
    "References:\n",
    "\n",
    "https://pytorch.org/docs/stable/generated/torch.nn.Sigmoid.html"
   ]
  },
  {
   "cell_type": "code",
   "execution_count": 4,
   "metadata": {},
   "outputs": [
    {
     "name": "stdout",
     "output_type": "stream",
     "text": [
      "Starting weights: Parameter containing:\n",
      "tensor([[0.0478]], requires_grad=True)\n",
      "Starting bias: Parameter containing:\n",
      "tensor([-0.7265], requires_grad=True)\n"
     ]
    }
   ],
   "source": [
    "print(\"Starting weights: {}\".format(model[0].weight))\n",
    "print(\"Starting bias: {}\".format(model[0].bias))"
   ]
  },
  {
   "attachments": {},
   "cell_type": "markdown",
   "metadata": {},
   "source": [
    "#### loss and optimizer\n",
    "loss: loss function is a method of evaluating how well your machine learning algorithm models your featured data set.\n",
    "\n",
    "optimizer: optimizers are algorithms or methods used to change the parameters of your neural network such as weights and learning rate in order to reduce the loss.\n",
    "\n",
    "MSELoss: $\\frac{1}{n}\\sum (y - \\hat{y})^2$"
   ]
  },
  {
   "cell_type": "code",
   "execution_count": 5,
   "metadata": {},
   "outputs": [],
   "source": [
    "criterion = nn.MSELoss()\n",
    "optimizer = optim.SGD(model.parameters(), lr=0.01)"
   ]
  },
  {
   "cell_type": "code",
   "execution_count": 6,
   "metadata": {},
   "outputs": [
    {
     "name": "stdout",
     "output_type": "stream",
     "text": [
      "step: 0  loss: 586.26806640625\n",
      "step: 200  loss: 0.8379953503608704\n",
      "step: 400  loss: 0.09019842743873596\n",
      "step: 600  loss: 0.009708689525723457\n",
      "step: 800  loss: 0.0010449107503518462\n",
      "step: 1000  loss: 0.00011247845395701006\n",
      "step: 1200  loss: 1.2105698260711506e-05\n",
      "step: 1400  loss: 1.302817508985754e-06\n",
      "step: 1600  loss: 1.406380789603645e-07\n",
      "step: 1800  loss: 1.5170522615903792e-08\n",
      "step: 2000  loss: 1.8573397264631808e-09\n",
      "step: 2200  loss: 5.492021837305572e-10\n",
      "step: 2400  loss: 5.492021837305572e-10\n",
      "step: 2600  loss: 5.492021837305572e-10\n",
      "step: 2800  loss: 5.492021837305572e-10\n",
      "step: 3000  loss: 5.492021837305572e-10\n",
      "step: 3200  loss: 5.492021837305572e-10\n",
      "step: 3400  loss: 5.492021837305572e-10\n",
      "step: 3600  loss: 5.492021837305572e-10\n",
      "step: 3800  loss: 5.492021837305572e-10\n",
      "step: 4000  loss: 5.492021837305572e-10\n",
      "step: 4200  loss: 5.492021837305572e-10\n",
      "step: 4400  loss: 5.492021837305572e-10\n",
      "step: 4600  loss: 5.492021837305572e-10\n",
      "step: 4800  loss: 5.492021837305572e-10\n"
     ]
    }
   ],
   "source": [
    "for step in range(5000):\n",
    "    pred = model(X)\n",
    "    loss = criterion(pred, Y)\n",
    "\n",
    "    optimizer.zero_grad()\n",
    "    loss.backward()\n",
    "    optimizer.step()\n",
    "\n",
    "    if step % 200 == 0:\n",
    "        print(\"step:\", step, \" loss:\", loss.item())"
   ]
  },
  {
   "cell_type": "code",
   "execution_count": 7,
   "metadata": {},
   "outputs": [
    {
     "name": "stdout",
     "output_type": "stream",
     "text": [
      "tensor([[ 5.0000],\n",
      "        [ 8.0000],\n",
      "        [11.0000],\n",
      "        [14.0000],\n",
      "        [17.0000],\n",
      "        [20.0000],\n",
      "        [23.0000],\n",
      "        [26.0000],\n",
      "        [29.0000],\n",
      "        [32.0000],\n",
      "        [35.0000],\n",
      "        [38.0000]], grad_fn=<AddmmBackward0>)\n"
     ]
    }
   ],
   "source": [
    "pred = model(X)\n",
    "print(pred)"
   ]
  },
  {
   "cell_type": "code",
   "execution_count": 8,
   "metadata": {},
   "outputs": [
    {
     "name": "stdout",
     "output_type": "stream",
     "text": [
      "tensor([[41.0000]], grad_fn=<AddmmBackward0>)\n"
     ]
    }
   ],
   "source": [
    "new_value = torch.FloatTensor([[12]]).to(device)\n",
    "new_pred = model(new_value)\n",
    "print(new_pred)"
   ]
  },
  {
   "cell_type": "code",
   "execution_count": 9,
   "metadata": {},
   "outputs": [
    {
     "name": "stdout",
     "output_type": "stream",
     "text": [
      "Learned weights: Parameter containing:\n",
      "tensor([[3.0000]], requires_grad=True)\n",
      "Learned bias: Parameter containing:\n",
      "tensor([5.0000], requires_grad=True)\n"
     ]
    }
   ],
   "source": [
    "print(\"Learned weights: {}\".format(model[0].weight))\n",
    "print(\"Learned bias: {}\".format(model[0].bias))"
   ]
  },
  {
   "attachments": {},
   "cell_type": "markdown",
   "metadata": {},
   "source": [
    "## Solving OR problem with a single perceptron\n",
    "\n",
    "| x1 | x2 | y |\n",
    "|:--:|:--:|:-:|\n",
    "|  0 |  0 | 0 |\n",
    "|  0 |  1 | 1 |\n",
    "|  1 |  0 | 1 |\n",
    "|  1 |  1 | 1 |"
   ]
  },
  {
   "cell_type": "code",
   "execution_count": 10,
   "metadata": {},
   "outputs": [],
   "source": [
    "X = torch.FloatTensor([[0, 0], [0, 1], [1, 0], [1, 1]]).to(device)\n",
    "Y = torch.FloatTensor([[0], [1], [1], [1]]).to(device)"
   ]
  },
  {
   "cell_type": "code",
   "execution_count": 11,
   "metadata": {},
   "outputs": [],
   "source": [
    "model = nn.Sequential(nn.Linear(2, 1, bias=True), nn.Sigmoid()).to(device)"
   ]
  },
  {
   "attachments": {},
   "cell_type": "markdown",
   "metadata": {},
   "source": [
    "nn.Sigmoid: Applies the element-wise sigmoid function\n",
    "\n",
    "<img src=\"https://pytorch.org/docs/stable/_images/Sigmoid.png\">\n",
    "\n",
    "References:\n",
    "\n",
    "https://pytorch.org/docs/stable/generated/torch.nn.Sigmoid.html"
   ]
  },
  {
   "cell_type": "code",
   "execution_count": 12,
   "metadata": {},
   "outputs": [],
   "source": [
    "criterion = nn.MSELoss()\n",
    "optimizer = optim.SGD(model.parameters(), lr=0.1)"
   ]
  },
  {
   "attachments": {},
   "cell_type": "markdown",
   "metadata": {},
   "source": [
    "detach() method in PyTorch is used to separate a tensor from the computational graph by returning a new tensor that doesn't require a gradient"
   ]
  },
  {
   "cell_type": "code",
   "execution_count": 13,
   "metadata": {},
   "outputs": [
    {
     "name": "stdout",
     "output_type": "stream",
     "text": [
      "step: 0  loss: 0.3073482811450958\n",
      "step: 200  loss: 0.10565894097089767\n",
      "step: 400  loss: 0.07673379778862\n",
      "step: 600  loss: 0.058310616761446\n",
      "step: 800  loss: 0.046080220490694046\n",
      "step: 1000  loss: 0.03757263720035553\n",
      "step: 1200  loss: 0.03141342103481293\n",
      "step: 1400  loss: 0.026803219690918922\n",
      "step: 1600  loss: 0.023254362866282463\n",
      "step: 1800  loss: 0.02045678161084652\n",
      "step: 2000  loss: 0.018206223845481873\n",
      "step: 2200  loss: 0.016363853588700294\n",
      "step: 2400  loss: 0.014832685701549053\n",
      "step: 2600  loss: 0.013543263077735901\n",
      "step: 2800  loss: 0.012444780208170414\n",
      "step: 3000  loss: 0.011499378830194473\n",
      "step: 3200  loss: 0.01067830715328455\n",
      "step: 3400  loss: 0.009959408082067966\n",
      "step: 3600  loss: 0.009325386956334114\n",
      "step: 3800  loss: 0.0087625402957201\n",
      "step: 4000  loss: 0.008259915746748447\n",
      "step: 4200  loss: 0.007808621972799301\n",
      "step: 4400  loss: 0.007401423528790474\n",
      "step: 4600  loss: 0.007032354827970266\n",
      "step: 4800  loss: 0.006696441676467657\n"
     ]
    }
   ],
   "source": [
    "losses = []\n",
    "for step in range(5000):\n",
    "    pred = model(X)\n",
    "    loss = criterion(pred, Y)\n",
    "    losses.append(loss.cpu().detach().numpy())\n",
    "\n",
    "    optimizer.zero_grad()\n",
    "    loss.backward()\n",
    "    optimizer.step()\n",
    "\n",
    "    if step % 200 == 0:\n",
    "        print(\"step:\", step, \" loss:\", loss.item())"
   ]
  },
  {
   "cell_type": "code",
   "execution_count": 14,
   "metadata": {},
   "outputs": [
    {
     "data": {
      "image/png": "[encoded data removed]",
      "text/plain": [
       "<Figure size 640x480 with 1 Axes>"
      ]
     },
     "metadata": {},
     "output_type": "display_data"
    }
   ],
   "source": [
    "import matplotlib.pyplot as plt\n",
    "\n",
    "plt.plot(list(range(5000)), losses)\n",
    "plt.title(\"Loss graph\")\n",
    "plt.xlabel(\"Loss\")\n",
    "plt.ylabel(\"Steps\")\n",
    "plt.show()"
   ]
  },
  {
   "cell_type": "code",
   "execution_count": 15,
   "metadata": {},
   "outputs": [
    {
     "name": "stdout",
     "output_type": "stream",
     "text": [
      "tensor([[0.1207],\n",
      "        [0.9259],\n",
      "        [0.9259],\n",
      "        [0.9991]], grad_fn=<SigmoidBackward0>)\n"
     ]
    }
   ],
   "source": [
    "pred = model(X)\n",
    "print(pred)"
   ]
  },
  {
   "attachments": {},
   "cell_type": "markdown",
   "metadata": {},
   "source": [
    "Thresholding to obtain the 0 or 1 as final output"
   ]
  },
  {
   "cell_type": "code",
   "execution_count": 16,
   "metadata": {},
   "outputs": [
    {
     "name": "stdout",
     "output_type": "stream",
     "text": [
      "tensor([[0],\n",
      "        [1],\n",
      "        [1],\n",
      "        [1]])\n"
     ]
    }
   ],
   "source": [
    "out = 1 * (pred >= 0.5)\n",
    "print(out)"
   ]
  },
  {
   "attachments": {},
   "cell_type": "markdown",
   "metadata": {},
   "source": [
    "## Solving AND problem with a single perceptron\n",
    "\n",
    "| x1 | x2 | y |\n",
    "|:--:|:--:|:-:|\n",
    "|  0 |  0 | 0 |\n",
    "|  0 |  1 | 0 |\n",
    "|  1 |  0 | 0 |\n",
    "|  1 |  1 | 1 |"
   ]
  },
  {
   "cell_type": "code",
   "execution_count": 17,
   "metadata": {},
   "outputs": [],
   "source": [
    "X = torch.FloatTensor([[0, 0], [0, 1], [1, 0], [1, 1]]).to(device)\n",
    "Y = torch.FloatTensor([[0], [0], [0], [1]]).to(device)"
   ]
  },
  {
   "cell_type": "code",
   "execution_count": 18,
   "metadata": {},
   "outputs": [],
   "source": [
    "# Perceptron model\n",
    "model = nn.Sequential(nn.Linear(2, 1, bias=True), nn.Sigmoid()).to(device)"
   ]
  },
  {
   "cell_type": "code",
   "execution_count": 19,
   "metadata": {},
   "outputs": [],
   "source": [
    "criterion = nn.MSELoss()\n",
    "optimizer = optim.SGD(model.parameters(), lr=0.1)"
   ]
  },
  {
   "cell_type": "code",
   "execution_count": 20,
   "metadata": {},
   "outputs": [
    {
     "name": "stdout",
     "output_type": "stream",
     "text": [
      "step: 0  loss: 0.22330258786678314\n",
      "step: 200  loss: 0.14672958850860596\n",
      "step: 400  loss: 0.10737352818250656\n",
      "step: 600  loss: 0.08487455546855927\n",
      "step: 800  loss: 0.07008256018161774\n",
      "step: 1000  loss: 0.05947452038526535\n",
      "step: 1200  loss: 0.05145256221294403\n",
      "step: 1400  loss: 0.04517009109258652\n",
      "step: 1600  loss: 0.040124472230672836\n",
      "step: 1800  loss: 0.03599298745393753\n",
      "step: 2000  loss: 0.032556530088186264\n",
      "step: 2200  loss: 0.02966037392616272\n",
      "step: 2400  loss: 0.027191873639822006\n",
      "step: 2600  loss: 0.025067010894417763\n",
      "step: 2800  loss: 0.023221923038363457\n",
      "step: 3000  loss: 0.021607249975204468\n",
      "step: 3200  loss: 0.02018427848815918\n",
      "step: 3400  loss: 0.01892227865755558\n",
      "step: 3600  loss: 0.0177965946495533\n",
      "step: 3800  loss: 0.016787158325314522\n",
      "step: 4000  loss: 0.01587763987481594\n",
      "step: 4200  loss: 0.015054477378726006\n",
      "step: 4400  loss: 0.01430642418563366\n",
      "step: 4600  loss: 0.013624048791825771\n",
      "step: 4800  loss: 0.012999389320611954\n"
     ]
    }
   ],
   "source": [
    "for step in range(5000):\n",
    "    pred = model(X)\n",
    "    loss = criterion(pred, Y)\n",
    "\n",
    "    optimizer.zero_grad()\n",
    "    loss.backward()\n",
    "    optimizer.step()\n",
    "\n",
    "    if step % 200 == 0:\n",
    "        print(\"step:\", step, \" loss:\", loss.item())"
   ]
  },
  {
   "cell_type": "code",
   "execution_count": 21,
   "metadata": {},
   "outputs": [
    {
     "name": "stdout",
     "output_type": "stream",
     "text": [
      "tensor([[0.0031],\n",
      "        [0.1202],\n",
      "        [0.1202],\n",
      "        [0.8557]], grad_fn=<SigmoidBackward0>)\n"
     ]
    }
   ],
   "source": [
    "pred = model(X)\n",
    "print(pred)"
   ]
  },
  {
   "cell_type": "code",
   "execution_count": 22,
   "metadata": {},
   "outputs": [
    {
     "name": "stdout",
     "output_type": "stream",
     "text": [
      "tensor([[0],\n",
      "        [0],\n",
      "        [0],\n",
      "        [1]])\n"
     ]
    }
   ],
   "source": [
    "out = 1 * (pred >= 0.5)\n",
    "print(out)"
   ]
  },
  {
   "attachments": {},
   "cell_type": "markdown",
   "metadata": {},
   "source": [
    "## Solving XOR problem with a single perceptron\n",
    "\n",
    "| x1 | x2 | y |\n",
    "|:--:|:--:|:-:|\n",
    "|  0 |  0 | 0 |\n",
    "|  0 |  1 | 1 |\n",
    "|  1 |  0 | 1 |\n",
    "|  1 |  1 | 0 |"
   ]
  },
  {
   "cell_type": "code",
   "execution_count": 23,
   "metadata": {},
   "outputs": [],
   "source": [
    "X = torch.FloatTensor([[0, 0], [0, 1], [1, 0], [1, 1]]).to(device)\n",
    "Y = torch.FloatTensor([[0], [1], [1], [0]]).to(device)"
   ]
  },
  {
   "cell_type": "code",
   "execution_count": 24,
   "metadata": {},
   "outputs": [],
   "source": [
    "# Perceptron model\n",
    "model = nn.Sequential(nn.Linear(2, 1, bias=True), nn.Sigmoid()).to(device)"
   ]
  },
  {
   "cell_type": "code",
   "execution_count": 25,
   "metadata": {},
   "outputs": [],
   "source": [
    "criterion = nn.MSELoss()\n",
    "optimizer = optim.SGD(model.parameters(), lr=0.1)"
   ]
  },
  {
   "cell_type": "code",
   "execution_count": 26,
   "metadata": {},
   "outputs": [
    {
     "name": "stdout",
     "output_type": "stream",
     "text": [
      "step: 0  loss: 0.2529272437095642\n",
      "step: 200  loss: 0.2510547935962677\n",
      "step: 400  loss: 0.25040072202682495\n",
      "step: 600  loss: 0.2501578629016876\n",
      "step: 800  loss: 0.25006455183029175\n",
      "step: 1000  loss: 0.25002723932266235\n",
      "step: 1200  loss: 0.25001177191734314\n",
      "step: 1400  loss: 0.25000518560409546\n",
      "step: 1600  loss: 0.25000232458114624\n",
      "step: 1800  loss: 0.2500010132789612\n",
      "step: 2000  loss: 0.2500004470348358\n",
      "step: 2200  loss: 0.2500002086162567\n",
      "step: 2400  loss: 0.25000011920928955\n",
      "step: 2600  loss: 0.2500000596046448\n",
      "step: 2800  loss: 0.2500000298023224\n",
      "step: 3000  loss: 0.25\n",
      "step: 3200  loss: 0.2499999850988388\n",
      "step: 3400  loss: 0.25\n",
      "step: 3600  loss: 0.2499999850988388\n",
      "step: 3800  loss: 0.2500000298023224\n",
      "step: 4000  loss: 0.25\n",
      "step: 4200  loss: 0.2499999701976776\n",
      "step: 4400  loss: 0.25\n",
      "step: 4600  loss: 0.25\n",
      "step: 4800  loss: 0.25\n"
     ]
    }
   ],
   "source": [
    "for step in range(5000):\n",
    "    pred = model(X)\n",
    "    loss = criterion(pred, Y)\n",
    "\n",
    "    optimizer.zero_grad()\n",
    "    loss.backward()\n",
    "    optimizer.step()\n",
    "\n",
    "    if step % 200 == 0:\n",
    "        print(\"step:\", step, \" loss:\", loss.item())"
   ]
  },
  {
   "cell_type": "code",
   "execution_count": 27,
   "metadata": {},
   "outputs": [
    {
     "name": "stdout",
     "output_type": "stream",
     "text": [
      "tensor([[0.5000],\n",
      "        [0.5000],\n",
      "        [0.5000],\n",
      "        [0.5000]], grad_fn=<SigmoidBackward0>)\n"
     ]
    }
   ],
   "source": [
    "pred = model(X)\n",
    "print(pred)"
   ]
  },
  {
   "cell_type": "code",
   "execution_count": 28,
   "metadata": {},
   "outputs": [],
   "source": [
    "# Perceptron model\n",
    "model = nn.Sequential(\n",
    "    nn.Linear(2, 2, bias=True),\n",
    "    nn.Sigmoid(),\n",
    "    nn.Linear(2, 1, bias=True),\n",
    ").to(device)"
   ]
  },
  {
   "cell_type": "code",
   "execution_count": 29,
   "metadata": {},
   "outputs": [],
   "source": [
    "criterion = nn.MSELoss()\n",
    "optimizer = optim.SGD(model.parameters(), lr=0.1)"
   ]
  },
  {
   "cell_type": "code",
   "execution_count": 30,
   "metadata": {},
   "outputs": [
    {
     "name": "stdout",
     "output_type": "stream",
     "text": [
      "step: 0  loss: 1.8950634002685547\n",
      "step: 200  loss: 0.25024911761283875\n",
      "step: 400  loss: 0.2500915825366974\n",
      "step: 600  loss: 0.2500085234642029\n",
      "step: 800  loss: 0.24995484948158264\n",
      "step: 1000  loss: 0.24991272389888763\n",
      "step: 1200  loss: 0.24987313151359558\n",
      "step: 1400  loss: 0.24982964992523193\n",
      "step: 1600  loss: 0.24977606534957886\n",
      "step: 1800  loss: 0.24970471858978271\n",
      "step: 2000  loss: 0.2496049702167511\n",
      "step: 2200  loss: 0.2494606077671051\n",
      "step: 2400  loss: 0.24924606084823608\n",
      "step: 2600  loss: 0.24891842901706696\n",
      "step: 2800  loss: 0.24840207397937775\n",
      "step: 3000  loss: 0.24755489826202393\n",
      "step: 3200  loss: 0.24609144032001495\n",
      "step: 3400  loss: 0.24339960515499115\n",
      "step: 3600  loss: 0.23808163404464722\n",
      "step: 3800  loss: 0.22677229344844818\n",
      "step: 4000  loss: 0.20107576251029968\n",
      "step: 4200  loss: 0.14232441782951355\n",
      "step: 4400  loss: 0.05208967998623848\n",
      "step: 4600  loss: 0.007365099154412746\n",
      "step: 4800  loss: 0.0006039688014425337\n"
     ]
    }
   ],
   "source": [
    "for step in range(5000):\n",
    "    pred = model(X)\n",
    "    loss = criterion(pred, Y)\n",
    "\n",
    "    optimizer.zero_grad()\n",
    "    loss.backward()\n",
    "    optimizer.step()\n",
    "\n",
    "    if step % 200 == 0:\n",
    "        print(\"step:\", step, \" loss:\", loss.item())"
   ]
  },
  {
   "cell_type": "code",
   "execution_count": 31,
   "metadata": {},
   "outputs": [
    {
     "name": "stdout",
     "output_type": "stream",
     "text": [
      "tensor([[0.0081],\n",
      "        [0.9941],\n",
      "        [0.9929],\n",
      "        [0.0040]], grad_fn=<AddmmBackward0>)\n"
     ]
    }
   ],
   "source": [
    "pred = model(X)\n",
    "print(pred)"
   ]
  },
  {
   "cell_type": "code",
   "execution_count": 32,
   "metadata": {},
   "outputs": [
    {
     "name": "stdout",
     "output_type": "stream",
     "text": [
      "tensor([[0],\n",
      "        [1],\n",
      "        [1],\n",
      "        [0]])\n"
     ]
    }
   ],
   "source": [
    "out = 1 * (pred >= 0.5)\n",
    "print(out)"
   ]
  }
 ],
 "metadata": {
  "kernelspec": {
   "display_name": "Python 3",
   "language": "python",
   "name": "python3"
  },
  "language_info": {
   "codemirror_mode": {
    "name": "ipython",
    "version": 3
   },
   "file_extension": ".py",
   "mimetype": "text/x-python",
   "name": "python",
   "nbconvert_exporter": "python",
   "pygments_lexer": "ipython3",
   "version": "3.10.4"
  },
  "orig_nbformat": 4,
  "vscode": {
   "interpreter": {
    "hash": "3ad933181bd8a04b432d3370b9dc3b0662ad032c4dfaa4e4f1596c548f763858"
   }
  }
 },
 "nbformat": 4,
 "nbformat_minor": 2
}
