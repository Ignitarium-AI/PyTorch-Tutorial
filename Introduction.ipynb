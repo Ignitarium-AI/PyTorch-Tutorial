{
 "cells": [
  {
   "attachments": {},
   "cell_type": "markdown",
   "metadata": {},
   "source": [
    "## Requirements:​\n",
    "python​​\n",
    "\n",
    "#### Step-1: Visit following website, Select the preferences and run the install command.​\n",
    "\n",
    "Web: https://pytorch.org/get-started/locally/​\n",
    "\n",
    "Optional: create seperate virtual environment for installation of pytorch​\n",
    "\n",
    "    python3 -m venv pytorch​\n",
    "    source pytorch/bin/activate​\n",
    "\n",
    "\n",
    "#### Step-2: Verify installation with following sequence of commands in terminal.​\n",
    "\n",
    "python <br>\n",
    "\\>>> import torch <br>\n",
    "\\>>> print(torch.\\__version\\__)"
   ]
  },
  {
   "cell_type": "code",
   "execution_count": null,
   "metadata": {},
   "outputs": [],
   "source": [
    "# verify pytorch installation\n",
    "import torch\n",
    "print(torch.__version__)"
   ]
  },
  {
   "cell_type": "code",
   "execution_count": null,
   "metadata": {},
   "outputs": [],
   "source": [
    "tensor_a = torch.tensor([[1, 2, 3], [4, 5, 6]]) # two rows and three columns tensor​\n",
    "print(tensor_a)"
   ]
  },
  {
   "attachments": {},
   "cell_type": "markdown",
   "metadata": {},
   "source": [
    "**We can also specify data type while creating tensor**\n",
    "\n",
    "References: https://pytorch.org/docs/stable/tensors.html#data-types"
   ]
  },
  {
   "cell_type": "code",
   "execution_count": null,
   "metadata": {},
   "outputs": [],
   "source": [
    "tensor_a = torch.tensor([[1, 2, 3], [4, 5, 6]], dtype=torch.float16) # two rows and three columns tensor with float16 values\n",
    "print(tensor_a)"
   ]
  },
  {
   "attachments": {},
   "cell_type": "markdown",
   "metadata": {},
   "source": [
    "**We can also specify device type while creating tensor**\n",
    "\n",
    "References: https://pytorch.org/docs/stable/tensor_attributes.html#torch-device"
   ]
  },
  {
   "cell_type": "code",
   "execution_count": null,
   "metadata": {},
   "outputs": [],
   "source": [
    "tensor_a = torch.tensor([[1, 2, 3], [4, 5, 6]], dtype=torch.float32, device=\"cpu\") # two rows and three columns tensor with float32 values on specified device\n",
    "\n",
    "## using cuda instead\n",
    "\n",
    "tensor_a = torch.tensor([[1, 2, 3], [4, 5, 6]], dtype=torch.float32, device=\"cuda:0\") # two rows and three columns tensor with float32 values on specified device\n",
    "\n",
    "## how to check if torch is cuda enabled\n",
    "\n",
    "print(torch.cuda.is_available())\n",
    "\n",
    "## usual practise is that we decide device in start\n",
    "\n",
    "device = \"cuda:0\" if torch.cuda.is_available() else \"cpu\"\n",
    "tensor_a = torch.tensor([[1, 2, 3], [4, 5, 6]], dtype=torch.float32, device=device) # two rows and three columns tensor with float32 values on specified device\n",
    "print(tensor_a)"
   ]
  },
  {
   "attachments": {},
   "cell_type": "markdown",
   "metadata": {},
   "source": [
    "#### Common Initialization methods:​\n",
    "\n",
    "​\n",
    "**Uninitialized data:**\n",
    "\n",
    "reference: ​\n",
    "\n",
    "https://pytorch.org/docs/stable/generated/torch.empty.html​"
   ]
  },
  {
   "cell_type": "code",
   "execution_count": null,
   "metadata": {},
   "outputs": [],
   "source": [
    "x = torch.empty(size=(10, 10))\n",
    "print(x)"
   ]
  },
  {
   "attachments": {},
   "cell_type": "markdown",
   "metadata": {},
   "source": [
    "**All zero data**\n",
    "\n",
    "reference:\n",
    "https://pytorch.org/docs/stable/generated/torch.zeros.html"
   ]
  },
  {
   "cell_type": "code",
   "execution_count": null,
   "metadata": {},
   "outputs": [],
   "source": [
    "x = torch.zeros(size=(10, 10))\n",
    "print(x)"
   ]
  },
  {
   "attachments": {},
   "cell_type": "markdown",
   "metadata": {},
   "source": [
    "**All ones data**​\n",
    "\n",
    "reference: ​\n",
    "https://pytorch.org/docs/stable/generated/torch.ones.html​​"
   ]
  },
  {
   "cell_type": "code",
   "execution_count": null,
   "metadata": {},
   "outputs": [],
   "source": [
    "x = torch.ones(size=(10, 10))\n",
    "print(x)"
   ]
  },
  {
   "attachments": {},
   "cell_type": "markdown",
   "metadata": {},
   "source": [
    "**All random numbers with uniform distribution between interval [0, 1)​**​​\n",
    "​\n",
    "\n",
    "References: ​\n",
    "\n",
    "https://pytorch.org/docs/stable/generated/torch.rand.html​\n",
    "\n",
    "​"
   ]
  },
  {
   "cell_type": "code",
   "execution_count": null,
   "metadata": {},
   "outputs": [],
   "source": [
    "x = torch.rand(size=(5, 5))\n",
    "print(x)"
   ]
  },
  {
   "attachments": {},
   "cell_type": "markdown",
   "metadata": {},
   "source": [
    "**All random numbers with uniform distribution between with given mean and std dev​**\n",
    "\n",
    "<b>NOTE: \"_\" after normal means that it is an inplace operation​</b>\n",
    "\n",
    "References: ​\n",
    "\n",
    "https://pytorch.org/docs/stable/generated/torch.rand.html​"
   ]
  },
  {
   "cell_type": "code",
   "execution_count": null,
   "metadata": {},
   "outputs": [],
   "source": [
    "x = torch.empty(size=(5, 5)).normal_(mean=0, std=2)\n",
    "print(x)"
   ]
  },
  {
   "attachments": {},
   "cell_type": "markdown",
   "metadata": {},
   "source": [
    "**Create evenly spaced values between given range​**\n",
    "\n",
    "References:​\n",
    "\n",
    "https://pytorch.org/docs/stable/generated/torch.linspace.html"
   ]
  },
  {
   "cell_type": "code",
   "execution_count": null,
   "metadata": {},
   "outputs": [],
   "source": [
    "# create list of 13 numbers between 1 to 54 which are evenly spaced\n",
    "x = torch.linspace(start=1, end=54, steps=13)\n",
    "print(x)"
   ]
  },
  {
   "attachments": {},
   "cell_type": "markdown",
   "metadata": {},
   "source": [
    "**Identity matrix**​\n",
    "\n",
    "reference: ​\n",
    "\n",
    "https://pytorch.org/docs/stable/generated/torch.eye.html​"
   ]
  },
  {
   "cell_type": "code",
   "execution_count": null,
   "metadata": {},
   "outputs": [],
   "source": [
    "x = torch.eye(5, 5)\n",
    "print(x)"
   ]
  },
  {
   "attachments": {},
   "cell_type": "markdown",
   "metadata": {},
   "source": [
    "**Create list of values​**\n",
    "\n",
    "References: ​\n",
    "\n",
    "https://pytorch.org/docs/stable/generated/torch.arange.html​"
   ]
  },
  {
   "cell_type": "code",
   "execution_count": null,
   "metadata": {},
   "outputs": [],
   "source": [
    "# create list of values atarting from 0 to 100 with step size of 20\n",
    "x = torch.arange(start=0, end=100, step=20)\n",
    "print(x)"
   ]
  },
  {
   "attachments": {},
   "cell_type": "markdown",
   "metadata": {},
   "source": [
    "**Changing tensor types**"
   ]
  },
  {
   "cell_type": "code",
   "execution_count": null,
   "metadata": {},
   "outputs": [],
   "source": [
    "tensor = torch.tensor([-1, 0, 1, 2, 3]) # int64​\n",
    "print(tensor.bool()) # [True, false, True, True, True]​\n",
    "print(tensor.short()) # int16​\n",
    "print(tensor.long()) # int64​\n",
    "print(tensor.half()) # float16​\n",
    "print(tensor.float()) # float32​\n",
    "print(tensor.double()) # float64"
   ]
  },
  {
   "attachments": {},
   "cell_type": "markdown",
   "metadata": {},
   "source": [
    "**Convert between numpy and torch tensor​**\n",
    "\n",
    "References:​\n",
    "\n",
    "https://pytorch.org/docs/stable/generated/torch.from_numpy.html​\n",
    "\n",
    "https://pytorch.org/docs/stable/generated/torch.Tensor.numpy.html"
   ]
  },
  {
   "cell_type": "code",
   "execution_count": null,
   "metadata": {},
   "outputs": [],
   "source": [
    "import numpy as np\n",
    "numpy_array = np.random.rand(5, 5)\n",
    "print(numpy_array)\n",
    "torch_array = torch.from_numpy(numpy_array)\n",
    "print(torch_array)\n",
    "numpy_array_recon = torch_array.numpy()\n",
    "print(numpy_array_recon)"
   ]
  },
  {
   "attachments": {},
   "cell_type": "markdown",
   "metadata": {},
   "source": [
    "**Addition**\n",
    "\n",
    "**Method-1:**\n",
    "\n",
    "References:\n",
    "\n",
    "https://pytorch.org/docs/stable/generated/torch.sub.html"
   ]
  },
  {
   "cell_type": "code",
   "execution_count": null,
   "metadata": {},
   "outputs": [],
   "source": [
    "x = torch.tensor([1, 2, 3])\n",
    "y = torch.tensor([4, 5, 6])\n",
    "\n",
    "z = torch.empty(3)\n",
    "torch.add(x, y, out=z)\n",
    "print(z)"
   ]
  },
  {
   "attachments": {},
   "cell_type": "markdown",
   "metadata": {},
   "source": [
    "**Method-2:**\n",
    "\n",
    "References:\n",
    "\n",
    "https://pytorch.org/docs/stable/generated/torch.add.html\n",
    "\n",
    "https://pytorch.org/docs/stable/generated/torch.Tensor.add_.html"
   ]
  },
  {
   "cell_type": "code",
   "execution_count": null,
   "metadata": {},
   "outputs": [],
   "source": [
    "x = torch.tensor([1, 2, 3])\n",
    "y = torch.tensor([4, 5, 6])\n",
    "z = torch.add(x, y)\n",
    "print(z)"
   ]
  },
  {
   "attachments": {},
   "cell_type": "markdown",
   "metadata": {},
   "source": [
    "**Method-3:**\n",
    "\n",
    "reference:\n",
    "\n",
    "https://pytorch.org/docs/stable/generated/torch.add.html\n",
    "\n",
    "https://pytorch.org/docs/stable/generated/torch.Tensor.add_.html"
   ]
  },
  {
   "cell_type": "code",
   "execution_count": null,
   "metadata": {},
   "outputs": [],
   "source": [
    "x = torch.tensor([1, 2, 3])\n",
    "y = torch.tensor([4, 5, 6])\n",
    "z = x + y\n",
    "print(z)"
   ]
  },
  {
   "attachments": {},
   "cell_type": "markdown",
   "metadata": {},
   "source": [
    "**Inplace addition**\n",
    "\n",
    "reference:\n",
    "\n",
    "https://pytorch.org/docs/stable/generated/torch.add.html\n",
    "\n",
    "https://pytorch.org/docs/stable/generated/torch.Tensor.add_.html"
   ]
  },
  {
   "cell_type": "code",
   "execution_count": null,
   "metadata": {},
   "outputs": [],
   "source": [
    "x = torch.tensor([1, 2, 3])\n",
    "y = 2\n",
    "x.add_(y)\n",
    "print(x)"
   ]
  },
  {
   "attachments": {},
   "cell_type": "markdown",
   "metadata": {},
   "source": [
    "**Subtraction​**\n",
    "\n",
    "References:​\n",
    "\n",
    "https://pytorch.org/docs/stable/generated/torch.sub.html​\n",
    "\n",
    "https://pytorch.org/docs/stable/generated/torch.Tensor.sub_.html​"
   ]
  },
  {
   "cell_type": "code",
   "execution_count": null,
   "metadata": {},
   "outputs": [],
   "source": [
    "x = torch.tensor([1, 2, 3])\n",
    "y = torch.tensor([4, 5, 6])\n",
    "z = x - y\n",
    "print(z)"
   ]
  },
  {
   "attachments": {},
   "cell_type": "markdown",
   "metadata": {},
   "source": [
    "**Inplace subtraction​**\n",
    "​\n",
    "\n",
    "References:​\n",
    "\n",
    "https://pytorch.org/docs/stable/generated/torch.sub.html​\n",
    "\n",
    "https://pytorch.org/docs/stable/generated/torch.Tensor.sub_.html​"
   ]
  },
  {
   "cell_type": "code",
   "execution_count": null,
   "metadata": {},
   "outputs": [],
   "source": [
    "x = torch.tensor([1, 2, 3])\n",
    "y = 2\n",
    "x.sub_(y)"
   ]
  },
  {
   "attachments": {},
   "cell_type": "markdown",
   "metadata": {},
   "source": [
    "**Element wise multiplication if both are tensor and of same shape​**\n",
    "\n",
    "​\n",
    "References:​\n",
    "\n",
    "https://pytorch.org/docs/stable/generated/torch.mul.html​"
   ]
  },
  {
   "cell_type": "code",
   "execution_count": null,
   "metadata": {},
   "outputs": [],
   "source": [
    "x = torch.tensor([1, 2, 3])\n",
    "y = torch.tensor([4, 5, 6])\n",
    "\n",
    "z = torch.mul(x, y) # can be written as z = x * y also​\n",
    "print(z)"
   ]
  },
  {
   "attachments": {},
   "cell_type": "markdown",
   "metadata": {},
   "source": [
    "**Scalar multiplication of elements from first array with integer provided as second element​**\n",
    "\n",
    "References:​\n",
    "\n",
    "https://pytorch.org/docs/stable/generated/torch.mul.html​"
   ]
  },
  {
   "cell_type": "code",
   "execution_count": null,
   "metadata": {},
   "outputs": [],
   "source": [
    "x = torch.tensor([1, 2, 3])\n",
    "y = 2\n",
    "\n",
    "z = torch.mul(x, y) # can be written as z = x * y also\n",
    "print(z)"
   ]
  },
  {
   "attachments": {},
   "cell_type": "markdown",
   "metadata": {},
   "source": [
    "**Element wise division if both are tensor and of same shape​**\n",
    "\n",
    "​\n",
    "References:​\n",
    "\n",
    "https://pytorch.org/docs/stable/generated/torch.div.html#torch.div"
   ]
  },
  {
   "cell_type": "code",
   "execution_count": null,
   "metadata": {},
   "outputs": [],
   "source": [
    "x = torch.tensor([1, 2, 3])\n",
    "y = torch.tensor([4, 5, 6])\n",
    "\n",
    "z = torch.div(x, y) # can be written as z = x / y also​\n",
    "print(z)"
   ]
  },
  {
   "attachments": {},
   "cell_type": "markdown",
   "metadata": {},
   "source": [
    "**Scalar division of elements from first array with integer provided as second element​**\n",
    "\n",
    "References:​\n",
    "\n",
    "https://pytorch.org/docs/stable/generated/torch.div.html#torch.div"
   ]
  },
  {
   "cell_type": "code",
   "execution_count": null,
   "metadata": {},
   "outputs": [],
   "source": [
    "x = torch.tensor([1, 2, 3])\n",
    "y = 2\n",
    "\n",
    "z = torch.div(x, y) # can be written as z = x * y also\n",
    "print(z)"
   ]
  },
  {
   "attachments": {},
   "cell_type": "markdown",
   "metadata": {},
   "source": [
    "**Element wise power of tensor:​** Takes the power of each element in input with exponent and returns a tensor with the result.\n",
    "\n",
    "References:​\n",
    "\n",
    "https://pytorch.org/docs/stable/generated/torch.pow.html"
   ]
  },
  {
   "cell_type": "code",
   "execution_count": null,
   "metadata": {},
   "outputs": [],
   "source": [
    "x = torch.tensor([1, 2, 3])\n",
    "z = x.pow(2)\n",
    "z = x**2\n",
    "print(z)"
   ]
  },
  {
   "attachments": {},
   "cell_type": "markdown",
   "metadata": {},
   "source": [
    "**Dot product:** Computes the dot product of two 1D tensors.\n",
    "\n",
    "References:​\n",
    "\n",
    "https://pytorch.org/docs/stable/generated/torch.dot.html"
   ]
  },
  {
   "cell_type": "code",
   "execution_count": null,
   "metadata": {},
   "outputs": [],
   "source": [
    "x = torch.tensor([2, 3])\n",
    "y = torch.tensor([2, 1])\n",
    "z = torch.dot(x, y)\n",
    "print(z)"
   ]
  },
  {
   "attachments": {},
   "cell_type": "markdown",
   "metadata": {},
   "source": [
    "**Matrix multiplication: ​** Matrix product of two tensors.\n",
    "\n",
    "References:​\n",
    "\n",
    "https://pytorch.org/docs/stable/generated/torch.matmul.html#torch.matmul​"
   ]
  },
  {
   "cell_type": "code",
   "execution_count": null,
   "metadata": {},
   "outputs": [],
   "source": [
    "x = torch.randn(2, 3)\n",
    "y = torch.randn(3, 5)\n",
    "z = torch.matmul(x, y)\n",
    "\n",
    "print(x.shape)\n",
    "print(y.shape)\n",
    "print(z.shape)"
   ]
  },
  {
   "attachments": {},
   "cell_type": "markdown",
   "metadata": {},
   "source": [
    "**​Batch matrix multiplication​**\n",
    "\n",
    "References:​\n",
    "\n",
    "https://pytorch.org/docs/stable/generated/torch.matmul.html#torch.matmul​"
   ]
  },
  {
   "cell_type": "code",
   "execution_count": null,
   "metadata": {},
   "outputs": [],
   "source": [
    "x = torch.randn(10, 2, 3)\n",
    "y = torch.randn(10, 3, 5)\n",
    "z = torch.matmul(x, y)\n",
    "\n",
    "print(x.shape)\n",
    "print(y.shape)\n",
    "print(z.shape)"
   ]
  },
  {
   "attachments": {},
   "cell_type": "markdown",
   "metadata": {},
   "source": [
    "**Useful Mathematic operations​**\n",
    "\n",
    "**Sum operation:​** Returns the sum of all elements in the input tensor.\n",
    "\n",
    "\n",
    "References:​\n",
    "\n",
    "https://pytorch.org/docs/stable/generated/torch.sum.html"
   ]
  },
  {
   "cell_type": "code",
   "execution_count": null,
   "metadata": {},
   "outputs": [],
   "source": [
    "x = torch.tensor([[1, 2, 3], [4, 5, 6]])\n",
    "z = torch.sum(x, dim=0) # [5, 7, 9]​\n",
    "print(z)\n",
    "z = torch.sum(x, dim=1) # [6, 15]​\n",
    "print(z)\n",
    "z = torch.sum(x, dim=(0,1)) # 21​\n",
    "print(z)"
   ]
  },
  {
   "attachments": {},
   "cell_type": "markdown",
   "metadata": {},
   "source": [
    "**Mean operation:** Returns the mean value of all elements in the input tensor.\n",
    "\n",
    "References:\n",
    "\n",
    "https://pytorch.org/docs/stable/generated/torch.mean.html\n"
   ]
  },
  {
   "cell_type": "code",
   "execution_count": null,
   "metadata": {},
   "outputs": [],
   "source": [
    "x = torch.tensor([[1, 2, 3], [4, 5, 6]], dtype=torch.float32)\n",
    "z = torch.mean(x, dim=0) # [2.5000, 3.5000, 4.5000]​\n",
    "print(z)\n",
    "z = torch.mean(x, dim=1) # [2., 5.]​\n",
    "print(z)\n",
    "z = torch.mean(x, dim=(0,1)) # 3.5​\n",
    "print(z)"
   ]
  },
  {
   "attachments": {},
   "cell_type": "markdown",
   "metadata": {},
   "source": [
    "**Clamp operation**\n",
    "\n",
    "Clamps all elements in input into the range [ min, max ].​​\n",
    "\n",
    "References:​\n",
    "\n",
    "https://pytorch.org/docs/stable/generated/torch.clamp.html​\n"
   ]
  },
  {
   "cell_type": "code",
   "execution_count": null,
   "metadata": {},
   "outputs": [],
   "source": [
    "min = -128\n",
    "max = 365\n",
    "x = (max-min)*torch.rand((2, 5)) + min\n",
    "print(x.min(), x.max())\n",
    "z = torch.clamp(x, min=0, max=255)\n",
    "print(z.min(), z.max())"
   ]
  },
  {
   "attachments": {},
   "cell_type": "markdown",
   "metadata": {},
   "source": [
    "**Indexing**"
   ]
  },
  {
   "cell_type": "code",
   "execution_count": null,
   "metadata": {},
   "outputs": [],
   "source": [
    "x = torch.rand((10, 64))\n",
    "print(x[0].shape)\n",
    "print(x[:, 0].shape)\n",
    "\n",
    "x = torch.tensor([1, 2, 3, 4, 5, 6, 7, 8, 9, 10])\n",
    "z = x[[2, 5, 8]]\n",
    "print(z)\n",
    "x = torch.tensor([1, 2, 3, 4, 5, 6, 7, 8, 9, 10])\n",
    "z = x[(x<3) | (x>8)]\n",
    "print(z)"
   ]
  },
  {
   "cell_type": "code",
   "execution_count": null,
   "metadata": {},
   "outputs": [],
   "source": [
    "x = np.random.rand(10, 64)\n",
    "print(x[0].shape)\n",
    "print(x[:, 0].shape)\n",
    "\n",
    "x = np.array([1, 2, 3, 4, 5, 6, 7, 8, 9, 10])\n",
    "z = x[[2, 5, 8]]\n",
    "print(z)\n",
    "x = np.array([1, 2, 3, 4, 5, 6, 7, 8, 9, 10])\n",
    "z = x[(x<3) | (x>8)]\n",
    "print(z)"
   ]
  },
  {
   "cell_type": "code",
   "execution_count": null,
   "metadata": {},
   "outputs": [],
   "source": [
    "# x = [1, 2, 3, 4, 5, 6, 7, 8, 9, 10]\n",
    "# z = x[[2, 5, 8]]\n",
    "# print(z)\n",
    "# x = [1, 2, 3, 4, 5, 6, 7, 8, 9, 10]\n",
    "# z = x[(x<3) | (x>8)]\n",
    "# print(z)"
   ]
  },
  {
   "attachments": {},
   "cell_type": "markdown",
   "metadata": {},
   "source": [
    "**Reshaping​:** Returns a new tensor with the same data as the self tensor but of a different shape.\n",
    "\n",
    "References:​\n",
    "\n",
    "https://pytorch.org/docs/stable/generated/torch.Tensor.view.html"
   ]
  },
  {
   "cell_type": "code",
   "execution_count": null,
   "metadata": {},
   "outputs": [],
   "source": [
    "x = torch.tensor([1, 2, 3, 4, 5, 6, 7, 8, 9])\n",
    "print(x.size())\n",
    "z = x.view(3, 3)\n",
    "print(z)\n",
    "print(z.size())\n",
    "z = x.view(3, -1) # if other dimension is not known​\n",
    "print(z.size())\n",
    "print(z)"
   ]
  },
  {
   "attachments": {},
   "cell_type": "markdown",
   "metadata": {},
   "source": [
    "**Transpose​:** Performs tranpose of matrix\n",
    "\n",
    "References:​\n",
    "\n",
    "https://pytorch.org/docs/stable/generated/torch.t.html​\n"
   ]
  },
  {
   "cell_type": "code",
   "execution_count": null,
   "metadata": {},
   "outputs": [],
   "source": [
    "x = torch.rand(size=(3,3))\n",
    "print(x)\n",
    "z = x.t()\n",
    "print(z)"
   ]
  },
  {
   "attachments": {},
   "cell_type": "markdown",
   "metadata": {},
   "source": [
    "**Flatten:​** Flattens input by reshaping it into a one-dimensional tensor\n",
    "\n",
    "References:\n",
    "\n",
    "https://pytorch.org/docs/stable/generated/torch.flatten.html"
   ]
  },
  {
   "cell_type": "code",
   "execution_count": null,
   "metadata": {},
   "outputs": [],
   "source": [
    "x = torch.rand(size=(3,3))\n",
    "print(x)\n",
    "z = torch.flatten(x)\n",
    "print(z)\n",
    "\n",
    "z = x.view(-1)\n",
    "print(z)"
   ]
  },
  {
   "attachments": {},
   "cell_type": "markdown",
   "metadata": {},
   "source": [
    "**Concat operation​:** Concatenates the given sequence tensors in the given dimension. All tensors must either have the same shape (except in the concatenating dimension) or be empty.\n",
    "​\n",
    "\n",
    "References:​\n",
    "\n",
    "https://pytorch.org/docs/stable/generated/torch.cat.html​"
   ]
  },
  {
   "cell_type": "code",
   "execution_count": null,
   "metadata": {},
   "outputs": [],
   "source": [
    "x = torch.rand(size=(10, 3, 128, 128))\n",
    "y = torch.rand(size=(10, 3, 128, 128))\n",
    "print(x.size())\n",
    "print(y.size())\n",
    "\n",
    "z = torch.cat([x, y], dim=0)\n",
    "print(z.size())\n",
    "\n",
    "z = torch.cat([x, y], dim=1)\n",
    "print(z.size())"
   ]
  },
  {
   "attachments": {},
   "cell_type": "markdown",
   "metadata": {},
   "source": [
    "**Dimension switch:​** Returns a view of the original tensor input with its dimensions permuted.\n",
    "\n",
    "\n",
    "References:​\n",
    "\n",
    "https://pytorch.org/docs/stable/generated/torch.permute.html​"
   ]
  },
  {
   "cell_type": "code",
   "execution_count": null,
   "metadata": {},
   "outputs": [],
   "source": [
    "x = torch.rand(size=(10, 3, 128, 128))\n",
    "print(x.shape)\n",
    "z = x.permute(0, 2, 3, 1)\n",
    "print(z.size())"
   ]
  },
  {
   "attachments": {},
   "cell_type": "markdown",
   "metadata": {},
   "source": [
    "**Adding or Removing extra dimension​:**\n",
    "\n",
    "Squeeze: Returns a tensor with all the dimensions of input of size 1 removed.\n",
    "\n",
    "Unsqueeze: Returns a new tensor with a dimension of size one inserted at the specified position.\n",
    "\n",
    "References:​\n",
    "\n",
    "https://pytorch.org/docs/stable/generated/torch.squeeze.html​\n",
    "\n",
    "https://pytorch.org/docs/stable/generated/torch.unsqueeze.html​"
   ]
  },
  {
   "cell_type": "code",
   "execution_count": null,
   "metadata": {},
   "outputs": [],
   "source": [
    "x = torch.rand(size=(3, 128, 128))\n",
    "print(x.size())\n",
    "z = x.unsqueeze(0)\n",
    "print(z.size())\n",
    "y = z.squeeze(0)\n",
    "print(y.size())"
   ]
  },
  {
   "cell_type": "code",
   "execution_count": null,
   "metadata": {},
   "outputs": [],
   "source": []
  }
 ],
 "metadata": {
  "kernelspec": {
   "display_name": "pytorch",
   "language": "python",
   "name": "python3"
  },
  "language_info": {
   "codemirror_mode": {
    "name": "ipython",
    "version": 3
   },
   "file_extension": ".py",
   "mimetype": "text/x-python",
   "name": "python",
   "nbconvert_exporter": "python",
   "pygments_lexer": "ipython3",
   "version": "3.8.10"
  },
  "orig_nbformat": 4,
  "vscode": {
   "interpreter": {
    "hash": "443dc6aef4bf313d5f038dcfb521c9759bd40586a60374df23c4f50260c810a0"
   }
  }
 },
 "nbformat": 4,
 "nbformat_minor": 2
}
