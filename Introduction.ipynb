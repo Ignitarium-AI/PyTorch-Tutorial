{
 "cells": [
  {
   "attachments": {},
   "cell_type": "markdown",
   "metadata": {},
   "source": [
    "# Pytorch Basics\n",
    "\n",
    "#### Requirements\n",
    "python​​3.x\\\n",
    "vscode or jupyter notebook\n",
    "\n",
    "#### Create Virtual Environment\n",
    "python3 -m venv venv3\\\n",
    "source venv3/bin/activate​\n",
    "#### Visit pytorch website and get pytorch install command.​\n",
    "\n",
    "Web: https://pytorch.org/get-started/locally/​"
   ]
  },
  {
   "cell_type": "code",
   "execution_count": 1,
   "metadata": {},
   "outputs": [
    {
     "name": "stderr",
     "output_type": "stream",
     "text": [
      "/home/skycam/aTYQI/vi/lib/python3.8/site-packages/tqdm/auto.py:22: TqdmWarning: IProgress not found. Please update jupyter and ipywidgets. See https://ipywidgets.readthedocs.io/en/stable/user_install.html\n",
      "  from .autonotebook import tqdm as notebook_tqdm\n"
     ]
    }
   ],
   "source": [
    "# verify pytorch installation\n",
    "import torch"
   ]
  },
  {
   "cell_type": "code",
   "execution_count": 2,
   "metadata": {},
   "outputs": [
    {
     "name": "stdout",
     "output_type": "stream",
     "text": [
      "1.11.0+cu102\n"
     ]
    }
   ],
   "source": [
    "print(torch.__version__)"
   ]
  },
  {
   "attachments": {},
   "cell_type": "markdown",
   "metadata": {},
   "source": [
    "#### A tensor of : Height = 2,  Width = 3"
   ]
  },
  {
   "cell_type": "code",
   "execution_count": 3,
   "metadata": {},
   "outputs": [
    {
     "name": "stdout",
     "output_type": "stream",
     "text": [
      "tensor([[1, 2, 3],\n",
      "        [4, 5, 6]])\n"
     ]
    }
   ],
   "source": [
    "tensor_a = torch.tensor([[1, 2, 3], [4, 5, 6]])  # Two rows, three columns\n",
    "print(tensor_a)"
   ]
  },
  {
   "cell_type": "code",
   "execution_count": 4,
   "metadata": {},
   "outputs": [
    {
     "data": {
      "text/plain": [
       "torch.Size([2, 3])"
      ]
     },
     "execution_count": 4,
     "metadata": {},
     "output_type": "execute_result"
    }
   ],
   "source": [
    "tensor_a.shape"
   ]
  },
  {
   "attachments": {},
   "cell_type": "markdown",
   "metadata": {},
   "source": [
    "A tensor of : Chanel = 3, Height = 2, Width = 1"
   ]
  },
  {
   "cell_type": "code",
   "execution_count": 5,
   "metadata": {},
   "outputs": [],
   "source": [
    "tensor_b = torch.tensor(\n",
    "    [[[1], [4]], [[1], [4]], [[1], [4]]]\n",
    ")  # Three channels, two rows, one column"
   ]
  },
  {
   "cell_type": "code",
   "execution_count": 6,
   "metadata": {},
   "outputs": [
    {
     "data": {
      "text/plain": [
       "tensor([[[1],\n",
       "         [4]],\n",
       "\n",
       "        [[1],\n",
       "         [4]],\n",
       "\n",
       "        [[1],\n",
       "         [4]]])"
      ]
     },
     "execution_count": 6,
     "metadata": {},
     "output_type": "execute_result"
    }
   ],
   "source": [
    "tensor_b"
   ]
  },
  {
   "attachments": {},
   "cell_type": "markdown",
   "metadata": {},
   "source": [
    "Axis 0, 1, 2"
   ]
  },
  {
   "cell_type": "code",
   "execution_count": 7,
   "metadata": {},
   "outputs": [
    {
     "data": {
      "text/plain": [
       "torch.Size([3, 2, 1])"
      ]
     },
     "execution_count": 7,
     "metadata": {},
     "output_type": "execute_result"
    }
   ],
   "source": [
    "tensor_b.shape"
   ]
  },
  {
   "attachments": {},
   "cell_type": "markdown",
   "metadata": {},
   "source": [
    "**We can also specify data type while creating tensor**\n",
    "\n",
    "References: https://pytorch.org/docs/stable/tensors.html#data-types"
   ]
  },
  {
   "cell_type": "code",
   "execution_count": 8,
   "metadata": {},
   "outputs": [
    {
     "name": "stdout",
     "output_type": "stream",
     "text": [
      "tensor([[1., 2., 3.],\n",
      "        [4., 5., 6.]], dtype=torch.float16)\n"
     ]
    }
   ],
   "source": [
    "tensor_a = torch.tensor(\n",
    "    [[1, 2, 3], [4, 5, 6]], dtype=torch.float16\n",
    ")  # two rows and three columns tensor with float16 values\n",
    "print(tensor_a)"
   ]
  },
  {
   "attachments": {},
   "cell_type": "markdown",
   "metadata": {},
   "source": [
    "**We can also specify device type while creating tensor**\n",
    "\n",
    "References: https://pytorch.org/docs/stable/tensor_attributes.html#torch-device"
   ]
  },
  {
   "cell_type": "code",
   "execution_count": 9,
   "metadata": {},
   "outputs": [
    {
     "name": "stdout",
     "output_type": "stream",
     "text": [
      "False\n"
     ]
    },
    {
     "name": "stderr",
     "output_type": "stream",
     "text": [
      "/home/skycam/aTYQI/vi/lib/python3.8/site-packages/torch/cuda/__init__.py:82: UserWarning: CUDA initialization: CUDA unknown error - this may be due to an incorrectly set up environment, e.g. changing env variable CUDA_VISIBLE_DEVICES after program start. Setting the available devices to be zero. (Triggered internally at  ../c10/cuda/CUDAFunctions.cpp:112.)\n",
      "  return torch._C._cuda_getDeviceCount() > 0\n"
     ]
    }
   ],
   "source": [
    "print(torch.cuda.is_available())"
   ]
  },
  {
   "cell_type": "code",
   "execution_count": 10,
   "metadata": {},
   "outputs": [],
   "source": [
    "## usual practise is that we decide device in start\n",
    "\n",
    "device = \"cuda\" if torch.cuda.is_available() else \"cpu\"\n",
    "tensor_c = torch.tensor(\n",
    "    [[1, 2, 3], [4, 5, 6]], dtype=torch.float32, device=device\n",
    ")  # two rows and three columns tensor with float32 values on specified device"
   ]
  },
  {
   "cell_type": "code",
   "execution_count": 11,
   "metadata": {},
   "outputs": [
    {
     "data": {
      "text/plain": [
       "tensor([[1., 2., 3.],\n",
       "        [4., 5., 6.]])"
      ]
     },
     "execution_count": 11,
     "metadata": {},
     "output_type": "execute_result"
    }
   ],
   "source": [
    "tensor_c"
   ]
  },
  {
   "attachments": {},
   "cell_type": "markdown",
   "metadata": {},
   "source": [
    "**Move tensor across devices**"
   ]
  },
  {
   "cell_type": "code",
   "execution_count": 12,
   "metadata": {},
   "outputs": [],
   "source": [
    "device = \"cuda\" if torch.cuda.is_available() else \"cpu\""
   ]
  },
  {
   "cell_type": "code",
   "execution_count": 13,
   "metadata": {},
   "outputs": [],
   "source": [
    "tensor_a = torch.tensor([[1, 2, 3], [4, 5, 6]])\n",
    "tensor_a = tensor_a.to(device)"
   ]
  },
  {
   "attachments": {},
   "cell_type": "markdown",
   "metadata": {},
   "source": [
    "#### Common Initialization methods:​\n",
    "\n",
    "​\n",
    "**Uninitialized data:**\n",
    "\n",
    "reference: ​\n",
    "\n",
    "https://pytorch.org/docs/stable/generated/torch.empty.html​"
   ]
  },
  {
   "cell_type": "code",
   "execution_count": 14,
   "metadata": {},
   "outputs": [
    {
     "name": "stdout",
     "output_type": "stream",
     "text": [
      "tensor([[ 3.2317e-37,  0.0000e+00,  9.4691e-36,  0.0000e+00,  8.9683e-44,\n",
      "          0.0000e+00,  1.1210e-43,  0.0000e+00,  9.4690e-36,  0.0000e+00],\n",
      "        [        nan,  9.5936e-35, -2.2198e+38, -1.7811e+38,  1.9753e-33,\n",
      "          5.0273e-31, -1.8210e+38, -1.9407e+38, -1.1302e+11, -1.4705e+21],\n",
      "        [ 4.7090e-33,  4.5619e-41,  4.6331e-33,  4.5619e-41, -3.0519e+10,\n",
      "          1.3975e-36,  2.4803e-43,  0.0000e+00,  9.4496e-36,  0.0000e+00],\n",
      "        [ 1.0721e-32,  4.5619e-41,  4.6100e-33,  4.5619e-41,  1.3297e-38,\n",
      "          0.0000e+00,  3.4238e+06, -1.0920e+35,  4.6100e-33,  4.5619e-41],\n",
      "        [ 1.3297e-38,  0.0000e+00,  1.4338e+27, -3.6470e+35,  4.6101e-33,\n",
      "          4.5619e-41,  1.3593e-43,  0.0000e+00,  1.3156e-37,  0.0000e+00],\n",
      "        [ 9.4690e-36,  0.0000e+00,  4.6283e-33,  4.5619e-41,  5.7764e-13,\n",
      "          4.3304e-16,  4.6620e-33,  4.5619e-41,  4.6283e-33,  4.5619e-41],\n",
      "        [ 2.0258e-33,  8.2083e-13,  4.6243e-44,  0.0000e+00,  9.4269e-36,\n",
      "          0.0000e+00,  9.4691e-36,  0.0000e+00,  4.4842e-43,  0.0000e+00],\n",
      "        [ 1.5695e-43,  0.0000e+00,  9.4691e-36,  0.0000e+00,  1.6437e-34,\n",
      "          4.5619e-41,  1.7574e-36,  4.5619e-41,  4.8899e+27,  7.1186e-12],\n",
      "        [ 1.8343e-34,  4.5619e-41,  1.7575e-36,  4.5619e-41, -1.0305e-06,\n",
      "          5.6438e+20,  1.6437e-34,  4.5619e-41,  1.7575e-36,  4.5619e-41],\n",
      "        [ 1.2179e-08,  1.8605e+10,  1.3338e-34,  4.5619e-41,  1.5077e-35,\n",
      "          4.5619e-41,  4.1806e-16,  1.8241e-24,  9.6549e-43,  0.0000e+00]])\n"
     ]
    }
   ],
   "source": [
    "x = torch.empty(size=(10, 10))\n",
    "print(x)"
   ]
  },
  {
   "attachments": {},
   "cell_type": "markdown",
   "metadata": {},
   "source": [
    "**All zero data**\n",
    "\n",
    "reference:\n",
    "https://pytorch.org/docs/stable/generated/torch.zeros.html"
   ]
  },
  {
   "cell_type": "code",
   "execution_count": 15,
   "metadata": {},
   "outputs": [
    {
     "name": "stdout",
     "output_type": "stream",
     "text": [
      "tensor([[0., 0., 0., 0., 0., 0., 0., 0., 0., 0.],\n",
      "        [0., 0., 0., 0., 0., 0., 0., 0., 0., 0.],\n",
      "        [0., 0., 0., 0., 0., 0., 0., 0., 0., 0.],\n",
      "        [0., 0., 0., 0., 0., 0., 0., 0., 0., 0.],\n",
      "        [0., 0., 0., 0., 0., 0., 0., 0., 0., 0.],\n",
      "        [0., 0., 0., 0., 0., 0., 0., 0., 0., 0.],\n",
      "        [0., 0., 0., 0., 0., 0., 0., 0., 0., 0.],\n",
      "        [0., 0., 0., 0., 0., 0., 0., 0., 0., 0.],\n",
      "        [0., 0., 0., 0., 0., 0., 0., 0., 0., 0.],\n",
      "        [0., 0., 0., 0., 0., 0., 0., 0., 0., 0.]])\n"
     ]
    }
   ],
   "source": [
    "x = torch.zeros(size=(10, 10))\n",
    "print(x)"
   ]
  },
  {
   "attachments": {},
   "cell_type": "markdown",
   "metadata": {},
   "source": [
    "**All ones data**​\n",
    "\n",
    "reference: ​\n",
    "https://pytorch.org/docs/stable/generated/torch.ones.html​​"
   ]
  },
  {
   "cell_type": "code",
   "execution_count": 16,
   "metadata": {},
   "outputs": [
    {
     "name": "stdout",
     "output_type": "stream",
     "text": [
      "tensor([[1., 1., 1., 1., 1., 1., 1., 1., 1., 1.],\n",
      "        [1., 1., 1., 1., 1., 1., 1., 1., 1., 1.],\n",
      "        [1., 1., 1., 1., 1., 1., 1., 1., 1., 1.],\n",
      "        [1., 1., 1., 1., 1., 1., 1., 1., 1., 1.],\n",
      "        [1., 1., 1., 1., 1., 1., 1., 1., 1., 1.],\n",
      "        [1., 1., 1., 1., 1., 1., 1., 1., 1., 1.],\n",
      "        [1., 1., 1., 1., 1., 1., 1., 1., 1., 1.],\n",
      "        [1., 1., 1., 1., 1., 1., 1., 1., 1., 1.],\n",
      "        [1., 1., 1., 1., 1., 1., 1., 1., 1., 1.],\n",
      "        [1., 1., 1., 1., 1., 1., 1., 1., 1., 1.]])\n"
     ]
    }
   ],
   "source": [
    "x = torch.ones(size=(10, 10))\n",
    "print(x)"
   ]
  },
  {
   "attachments": {},
   "cell_type": "markdown",
   "metadata": {},
   "source": [
    "**All random numbers with uniform distribution between interval [0, 1)​**​​\n",
    "​\n",
    "\n",
    "References: ​\n",
    "\n",
    "https://pytorch.org/docs/stable/generated/torch.rand.html​\n",
    "\n",
    "​"
   ]
  },
  {
   "cell_type": "code",
   "execution_count": 17,
   "metadata": {},
   "outputs": [
    {
     "name": "stdout",
     "output_type": "stream",
     "text": [
      "tensor([[0.1418, 0.2798, 0.7604, 0.8670, 0.0790],\n",
      "        [0.1945, 0.0984, 0.6205, 0.2159, 0.5595],\n",
      "        [0.8810, 0.2585, 0.8827, 0.8285, 0.9515],\n",
      "        [0.9800, 0.2429, 0.1013, 0.8576, 0.9671],\n",
      "        [0.1108, 0.8865, 0.1154, 0.1142, 0.2389]])\n"
     ]
    }
   ],
   "source": [
    "x = torch.rand(size=(5, 5))\n",
    "print(x)"
   ]
  },
  {
   "attachments": {},
   "cell_type": "markdown",
   "metadata": {},
   "source": [
    "**All random numbers with uniform distribution between with given mean and std dev​**\n",
    "\n",
    "<b>NOTE: \"_\" after normal means that it is an inplace operation​</b>\n",
    "\n",
    "References: ​\n",
    "\n",
    "https://pytorch.org/docs/stable/generated/torch.rand.html​"
   ]
  },
  {
   "cell_type": "code",
   "execution_count": 18,
   "metadata": {},
   "outputs": [
    {
     "name": "stdout",
     "output_type": "stream",
     "text": [
      "tensor([[-0.4317, -0.1443, -0.3429,  0.4909, -3.4533],\n",
      "        [-0.9703, -1.7018,  2.2065,  5.7212,  0.5072],\n",
      "        [-0.1565, -0.9897,  2.0426,  0.9227, -1.1667],\n",
      "        [-1.0137, -0.1164,  2.6197, -3.5958, -1.2723],\n",
      "        [-0.1951, -1.9773,  1.9311, -1.6501, -0.4094]])\n"
     ]
    }
   ],
   "source": [
    "x = torch.empty(size=(5, 5)).normal_(mean=0, std=2)\n",
    "print(x)"
   ]
  },
  {
   "attachments": {},
   "cell_type": "markdown",
   "metadata": {},
   "source": [
    "**Create evenly spaced values between given range​**\n",
    "\n",
    "References:​\n",
    "\n",
    "https://pytorch.org/docs/stable/generated/torch.linspace.html"
   ]
  },
  {
   "cell_type": "code",
   "execution_count": 19,
   "metadata": {},
   "outputs": [
    {
     "name": "stdout",
     "output_type": "stream",
     "text": [
      "tensor([ 1.0000,  5.4167,  9.8333, 14.2500, 18.6667, 23.0833, 27.5000, 31.9167,\n",
      "        36.3333, 40.7500, 45.1667, 49.5833, 54.0000])\n"
     ]
    }
   ],
   "source": [
    "# create list of 13 numbers between 1 to 54 which are evenly spaced\n",
    "x = torch.linspace(start=1, end=54, steps=13)\n",
    "print(x)"
   ]
  },
  {
   "attachments": {},
   "cell_type": "markdown",
   "metadata": {},
   "source": [
    "**Identity matrix**​\n",
    "\n",
    "reference: ​\n",
    "\n",
    "https://pytorch.org/docs/stable/generated/torch.eye.html​"
   ]
  },
  {
   "cell_type": "code",
   "execution_count": 20,
   "metadata": {},
   "outputs": [
    {
     "name": "stdout",
     "output_type": "stream",
     "text": [
      "tensor([[1., 0., 0., 0., 0.],\n",
      "        [0., 1., 0., 0., 0.],\n",
      "        [0., 0., 1., 0., 0.],\n",
      "        [0., 0., 0., 1., 0.],\n",
      "        [0., 0., 0., 0., 1.]])\n"
     ]
    }
   ],
   "source": [
    "x = torch.eye(5, 5)\n",
    "print(x)"
   ]
  },
  {
   "attachments": {},
   "cell_type": "markdown",
   "metadata": {},
   "source": [
    "**Create list of values​**\n",
    "\n",
    "References: ​\n",
    "\n",
    "https://pytorch.org/docs/stable/generated/torch.arange.html​"
   ]
  },
  {
   "cell_type": "code",
   "execution_count": 21,
   "metadata": {},
   "outputs": [
    {
     "name": "stdout",
     "output_type": "stream",
     "text": [
      "tensor([ 0, 20, 40, 60, 80])\n"
     ]
    }
   ],
   "source": [
    "# create list of values atarting from 0 to 100 with step size of 20\n",
    "x = torch.arange(start=0, end=100, step=20)\n",
    "print(x)"
   ]
  },
  {
   "attachments": {},
   "cell_type": "markdown",
   "metadata": {},
   "source": [
    "**Changing tensor types**"
   ]
  },
  {
   "cell_type": "code",
   "execution_count": 22,
   "metadata": {},
   "outputs": [
    {
     "name": "stdout",
     "output_type": "stream",
     "text": [
      "tensor([ True, False,  True,  True,  True])\n",
      "tensor([-1,  0,  1,  2,  3], dtype=torch.int16)\n",
      "tensor([-1,  0,  1,  2,  3])\n",
      "tensor([-1.,  0.,  1.,  2.,  3.], dtype=torch.float16)\n",
      "tensor([-1.,  0.,  1.,  2.,  3.])\n",
      "tensor([-1.,  0.,  1.,  2.,  3.], dtype=torch.float64)\n"
     ]
    }
   ],
   "source": [
    "tensor = torch.tensor([-1, 0, 1, 2, 3])  # int64​\n",
    "print(tensor.bool())  # [True, false, True, True, True]​\n",
    "print(tensor.short())  # int16​\n",
    "print(tensor.long())  # int64​\n",
    "print(tensor.half())  # float16​\n",
    "print(tensor.float())  # float32​\n",
    "print(tensor.double())  # float64"
   ]
  },
  {
   "attachments": {},
   "cell_type": "markdown",
   "metadata": {},
   "source": [
    "**Convert between numpy and torch tensor​**\n",
    "\n",
    "References:​\n",
    "\n",
    "https://pytorch.org/docs/stable/generated/torch.from_numpy.html​\n",
    "\n",
    "https://pytorch.org/docs/stable/generated/torch.Tensor.numpy.html"
   ]
  },
  {
   "cell_type": "code",
   "execution_count": 23,
   "metadata": {},
   "outputs": [
    {
     "name": "stdout",
     "output_type": "stream",
     "text": [
      "[[0.88536034 0.20845905 0.8410834  0.98067797 0.5431732 ]\n",
      " [0.63409764 0.24062979 0.11939822 0.59020316 0.36167987]\n",
      " [0.95982442 0.104679   0.72931589 0.18962074 0.61085778]\n",
      " [0.18807456 0.99013049 0.3865906  0.60681579 0.94593867]\n",
      " [0.53689106 0.45801062 0.27143292 0.02986875 0.63770315]]\n",
      "tensor([[0.8854, 0.2085, 0.8411, 0.9807, 0.5432],\n",
      "        [0.6341, 0.2406, 0.1194, 0.5902, 0.3617],\n",
      "        [0.9598, 0.1047, 0.7293, 0.1896, 0.6109],\n",
      "        [0.1881, 0.9901, 0.3866, 0.6068, 0.9459],\n",
      "        [0.5369, 0.4580, 0.2714, 0.0299, 0.6377]], dtype=torch.float64)\n",
      "[[0.88536034 0.20845905 0.8410834  0.98067797 0.5431732 ]\n",
      " [0.63409764 0.24062979 0.11939822 0.59020316 0.36167987]\n",
      " [0.95982442 0.104679   0.72931589 0.18962074 0.61085778]\n",
      " [0.18807456 0.99013049 0.3865906  0.60681579 0.94593867]\n",
      " [0.53689106 0.45801062 0.27143292 0.02986875 0.63770315]]\n"
     ]
    }
   ],
   "source": [
    "import numpy as np\n",
    "\n",
    "numpy_array = np.random.rand(5, 5)\n",
    "print(numpy_array)\n",
    "torch_array = torch.from_numpy(numpy_array)\n",
    "print(torch_array)\n",
    "numpy_array_recon = torch_array.numpy()\n",
    "print(numpy_array_recon)"
   ]
  },
  {
   "attachments": {},
   "cell_type": "markdown",
   "metadata": {},
   "source": [
    "**Addition**\n",
    "\n",
    "**Method-1:**\n",
    "\n",
    "References:\n",
    "\n",
    "https://pytorch.org/docs/stable/generated/torch.sub.html"
   ]
  },
  {
   "cell_type": "code",
   "execution_count": 24,
   "metadata": {},
   "outputs": [
    {
     "name": "stdout",
     "output_type": "stream",
     "text": [
      "tensor([5., 7., 9.])\n"
     ]
    }
   ],
   "source": [
    "x = torch.tensor([1, 2, 3])\n",
    "y = torch.tensor([4, 5, 6])\n",
    "\n",
    "z = torch.empty(3)\n",
    "torch.add(x, y, out=z)\n",
    "print(z)"
   ]
  },
  {
   "attachments": {},
   "cell_type": "markdown",
   "metadata": {},
   "source": [
    "**Method-2:**\n",
    "\n",
    "References:\n",
    "\n",
    "https://pytorch.org/docs/stable/generated/torch.add.html\n",
    "\n",
    "https://pytorch.org/docs/stable/generated/torch.Tensor.add_.html"
   ]
  },
  {
   "cell_type": "code",
   "execution_count": 25,
   "metadata": {},
   "outputs": [
    {
     "name": "stdout",
     "output_type": "stream",
     "text": [
      "tensor([5, 7, 9])\n"
     ]
    }
   ],
   "source": [
    "x = torch.tensor([1, 2, 3])\n",
    "y = torch.tensor([4, 5, 6])\n",
    "z = torch.add(x, y)\n",
    "print(z)"
   ]
  },
  {
   "attachments": {},
   "cell_type": "markdown",
   "metadata": {},
   "source": [
    "**Method-3:**\n",
    "\n",
    "reference:\n",
    "\n",
    "https://pytorch.org/docs/stable/generated/torch.add.html\n",
    "\n",
    "https://pytorch.org/docs/stable/generated/torch.Tensor.add_.html"
   ]
  },
  {
   "cell_type": "code",
   "execution_count": 26,
   "metadata": {},
   "outputs": [
    {
     "name": "stdout",
     "output_type": "stream",
     "text": [
      "tensor([5, 7, 9])\n"
     ]
    }
   ],
   "source": [
    "x = torch.tensor([1, 2, 3])\n",
    "y = torch.tensor([4, 5, 6])\n",
    "z = x + y\n",
    "print(z)"
   ]
  },
  {
   "attachments": {},
   "cell_type": "markdown",
   "metadata": {},
   "source": [
    "**Inplace addition**\n",
    "\n",
    "reference:\n",
    "\n",
    "https://pytorch.org/docs/stable/generated/torch.add.html\n",
    "\n",
    "https://pytorch.org/docs/stable/generated/torch.Tensor.add_.html"
   ]
  },
  {
   "cell_type": "code",
   "execution_count": 27,
   "metadata": {},
   "outputs": [
    {
     "name": "stdout",
     "output_type": "stream",
     "text": [
      "tensor([3, 4, 5])\n"
     ]
    }
   ],
   "source": [
    "x = torch.tensor([1, 2, 3])\n",
    "y = 2\n",
    "x.add_(y)\n",
    "print(x)"
   ]
  },
  {
   "attachments": {},
   "cell_type": "markdown",
   "metadata": {},
   "source": [
    "**Subtraction​**\n",
    "\n",
    "References:​\n",
    "\n",
    "https://pytorch.org/docs/stable/generated/torch.sub.html​\n",
    "\n",
    "https://pytorch.org/docs/stable/generated/torch.Tensor.sub_.html​"
   ]
  },
  {
   "cell_type": "code",
   "execution_count": 28,
   "metadata": {},
   "outputs": [
    {
     "name": "stdout",
     "output_type": "stream",
     "text": [
      "tensor([-3, -3, -3])\n"
     ]
    }
   ],
   "source": [
    "x = torch.tensor([1, 2, 3])\n",
    "y = torch.tensor([4, 5, 6])\n",
    "z = x - y\n",
    "print(z)"
   ]
  },
  {
   "attachments": {},
   "cell_type": "markdown",
   "metadata": {},
   "source": [
    "**Inplace subtraction​**\n",
    "​\n",
    "\n",
    "References:​\n",
    "\n",
    "https://pytorch.org/docs/stable/generated/torch.sub.html​\n",
    "\n",
    "https://pytorch.org/docs/stable/generated/torch.Tensor.sub_.html​"
   ]
  },
  {
   "cell_type": "code",
   "execution_count": 29,
   "metadata": {},
   "outputs": [
    {
     "data": {
      "text/plain": [
       "tensor([-1,  0,  1])"
      ]
     },
     "execution_count": 29,
     "metadata": {},
     "output_type": "execute_result"
    }
   ],
   "source": [
    "x = torch.tensor([1, 2, 3])\n",
    "y = 2\n",
    "x.sub_(y)"
   ]
  },
  {
   "attachments": {},
   "cell_type": "markdown",
   "metadata": {},
   "source": [
    "**Element wise multiplication if both are tensor and of same shape​**\n",
    "\n",
    "​\n",
    "References:​\n",
    "\n",
    "https://pytorch.org/docs/stable/generated/torch.mul.html​"
   ]
  },
  {
   "cell_type": "code",
   "execution_count": 30,
   "metadata": {},
   "outputs": [
    {
     "name": "stdout",
     "output_type": "stream",
     "text": [
      "tensor([ 4, 10, 18])\n"
     ]
    }
   ],
   "source": [
    "x = torch.tensor([1, 2, 3])\n",
    "y = torch.tensor([4, 5, 6])\n",
    "\n",
    "z = torch.mul(x, y)  # can be written as z = x * y also​\n",
    "print(z)"
   ]
  },
  {
   "attachments": {},
   "cell_type": "markdown",
   "metadata": {},
   "source": [
    "**Scalar multiplication of elements from first array with integer provided as second element​**\n",
    "\n",
    "References:​\n",
    "\n",
    "https://pytorch.org/docs/stable/generated/torch.mul.html​"
   ]
  },
  {
   "cell_type": "code",
   "execution_count": 31,
   "metadata": {},
   "outputs": [
    {
     "name": "stdout",
     "output_type": "stream",
     "text": [
      "tensor([2, 4, 6])\n"
     ]
    }
   ],
   "source": [
    "x = torch.tensor([1, 2, 3])\n",
    "y = 2\n",
    "\n",
    "z = torch.mul(x, y)  # can be written as z = x * y also\n",
    "print(z)"
   ]
  },
  {
   "attachments": {},
   "cell_type": "markdown",
   "metadata": {},
   "source": [
    "**Element wise division if both are tensor and of same shape​**\n",
    "\n",
    "​\n",
    "References:​\n",
    "\n",
    "https://pytorch.org/docs/stable/generated/torch.div.html#torch.div"
   ]
  },
  {
   "cell_type": "code",
   "execution_count": 32,
   "metadata": {},
   "outputs": [
    {
     "name": "stdout",
     "output_type": "stream",
     "text": [
      "tensor([0.2500, 0.4000, 0.5000])\n"
     ]
    }
   ],
   "source": [
    "x = torch.tensor([1, 2, 3])\n",
    "y = torch.tensor([4, 5, 6])\n",
    "\n",
    "z = torch.div(x, y)  # can be written as z = x / y also​\n",
    "print(z)"
   ]
  },
  {
   "attachments": {},
   "cell_type": "markdown",
   "metadata": {},
   "source": [
    "**Scalar division of elements from first array with integer provided as second element​**\n",
    "\n",
    "References:​\n",
    "\n",
    "https://pytorch.org/docs/stable/generated/torch.div.html#torch.div"
   ]
  },
  {
   "cell_type": "code",
   "execution_count": 33,
   "metadata": {},
   "outputs": [
    {
     "name": "stdout",
     "output_type": "stream",
     "text": [
      "tensor([0.5000, 1.0000, 1.5000])\n"
     ]
    }
   ],
   "source": [
    "x = torch.tensor([1, 2, 3])\n",
    "y = 2\n",
    "\n",
    "z = torch.div(x, y)  # can be written as z = x * y also\n",
    "print(z)"
   ]
  },
  {
   "attachments": {},
   "cell_type": "markdown",
   "metadata": {},
   "source": [
    "**Element wise power of tensor:​** Takes the power of each element in input with exponent and returns a tensor with the result.\n",
    "\n",
    "References:​\n",
    "\n",
    "https://pytorch.org/docs/stable/generated/torch.pow.html"
   ]
  },
  {
   "cell_type": "code",
   "execution_count": 34,
   "metadata": {},
   "outputs": [
    {
     "name": "stdout",
     "output_type": "stream",
     "text": [
      "tensor([1, 4, 9])\n"
     ]
    }
   ],
   "source": [
    "x = torch.tensor([1, 2, 3])\n",
    "z = x.pow(2)\n",
    "z = x**2\n",
    "print(z)"
   ]
  },
  {
   "attachments": {},
   "cell_type": "markdown",
   "metadata": {},
   "source": [
    "**Dot product:** Computes the dot product of two 1D tensors.\n",
    "\n",
    "References:​\n",
    "\n",
    "https://pytorch.org/docs/stable/generated/torch.dot.html"
   ]
  },
  {
   "cell_type": "code",
   "execution_count": 35,
   "metadata": {},
   "outputs": [
    {
     "name": "stdout",
     "output_type": "stream",
     "text": [
      "tensor(7)\n"
     ]
    }
   ],
   "source": [
    "x = torch.tensor([2, 3])\n",
    "y = torch.tensor([2, 1])\n",
    "z = torch.dot(x, y)\n",
    "print(z)"
   ]
  },
  {
   "attachments": {},
   "cell_type": "markdown",
   "metadata": {},
   "source": [
    "**Matrix multiplication: ​** Matrix product of two tensors.\n",
    "\n",
    "References:​\n",
    "\n",
    "https://pytorch.org/docs/stable/generated/torch.matmul.html#torch.matmul​"
   ]
  },
  {
   "cell_type": "code",
   "execution_count": 36,
   "metadata": {},
   "outputs": [
    {
     "name": "stdout",
     "output_type": "stream",
     "text": [
      "torch.Size([2, 3])\n",
      "torch.Size([3, 5])\n",
      "torch.Size([2, 5])\n"
     ]
    }
   ],
   "source": [
    "x = torch.randn(2, 3)\n",
    "y = torch.randn(3, 5)\n",
    "z = torch.matmul(x, y)\n",
    "\n",
    "print(x.shape)\n",
    "print(y.shape)\n",
    "print(z.shape)"
   ]
  },
  {
   "attachments": {},
   "cell_type": "markdown",
   "metadata": {},
   "source": [
    "**​Batch matrix multiplication​**\n",
    "\n",
    "References:​\n",
    "\n",
    "https://pytorch.org/docs/stable/generated/torch.matmul.html#torch.matmul​"
   ]
  },
  {
   "cell_type": "code",
   "execution_count": 37,
   "metadata": {},
   "outputs": [
    {
     "name": "stdout",
     "output_type": "stream",
     "text": [
      "torch.Size([10, 2, 3])\n",
      "torch.Size([10, 3, 5])\n",
      "torch.Size([10, 2, 5])\n"
     ]
    }
   ],
   "source": [
    "x = torch.randn(10, 2, 3)\n",
    "y = torch.randn(10, 3, 5)\n",
    "z = torch.matmul(x, y)\n",
    "\n",
    "print(x.shape)\n",
    "print(y.shape)\n",
    "print(z.shape)"
   ]
  },
  {
   "attachments": {},
   "cell_type": "markdown",
   "metadata": {},
   "source": [
    "**Useful Mathematic operations​**\n",
    "\n",
    "**Sum operation:​** Returns the sum of all elements in the input tensor.\n",
    "\n",
    "\n",
    "References:​\n",
    "\n",
    "https://pytorch.org/docs/stable/generated/torch.sum.html"
   ]
  },
  {
   "cell_type": "code",
   "execution_count": 38,
   "metadata": {},
   "outputs": [
    {
     "name": "stdout",
     "output_type": "stream",
     "text": [
      "tensor([[1, 2, 3],\n",
      "        [4, 5, 6]])\n",
      "torch.Size([2, 3])\n",
      "tensor([5, 7, 9])\n",
      "tensor([ 6, 15])\n",
      "tensor(21)\n"
     ]
    }
   ],
   "source": [
    "x = torch.tensor([[1, 2, 3], [4, 5, 6]])\n",
    "print(x)\n",
    "print(x.shape)\n",
    "z = torch.sum(x, dim=0)  # [5, 7, 9]​\n",
    "print(z)\n",
    "z = torch.sum(x, dim=1)  # [6, 15]​\n",
    "print(z)\n",
    "z = torch.sum(x, dim=(0, 1))  # 21​\n",
    "print(z)"
   ]
  },
  {
   "cell_type": "code",
   "execution_count": 39,
   "metadata": {},
   "outputs": [
    {
     "data": {
      "text/plain": [
       "tensor([[[1., 1.],\n",
       "         [1., 1.],\n",
       "         [1., 1.],\n",
       "         [1., 1.]],\n",
       "\n",
       "        [[1., 1.],\n",
       "         [1., 1.],\n",
       "         [1., 1.],\n",
       "         [1., 1.]],\n",
       "\n",
       "        [[1., 1.],\n",
       "         [1., 1.],\n",
       "         [1., 1.],\n",
       "         [1., 1.]]])"
      ]
     },
     "execution_count": 39,
     "metadata": {},
     "output_type": "execute_result"
    }
   ],
   "source": [
    "x = torch.ones(3, 4, 2)\n",
    "x"
   ]
  },
  {
   "attachments": {},
   "cell_type": "markdown",
   "metadata": {},
   "source": [
    "#### sum throguh axis = 0, in this case it means through channels"
   ]
  },
  {
   "cell_type": "code",
   "execution_count": 40,
   "metadata": {},
   "outputs": [
    {
     "name": "stdout",
     "output_type": "stream",
     "text": [
      "tensor([[3., 3.],\n",
      "        [3., 3.],\n",
      "        [3., 3.],\n",
      "        [3., 3.]])\n",
      "torch.Size([4, 2])\n"
     ]
    }
   ],
   "source": [
    "z = torch.sum(x, dim=0)\n",
    "print(z)\n",
    "print(z.shape)"
   ]
  },
  {
   "attachments": {},
   "cell_type": "markdown",
   "metadata": {},
   "source": [
    "**Mean operation:** Returns the mean value of all elements in the input tensor.\n",
    "\n",
    "References:\n",
    "\n",
    "https://pytorch.org/docs/stable/generated/torch.mean.html\n"
   ]
  },
  {
   "cell_type": "code",
   "execution_count": 41,
   "metadata": {},
   "outputs": [
    {
     "name": "stdout",
     "output_type": "stream",
     "text": [
      "tensor([2.5000, 3.5000, 4.5000])\n",
      "tensor([2., 5.])\n",
      "tensor(3.5000)\n"
     ]
    }
   ],
   "source": [
    "x = torch.tensor([[1, 2, 3], [4, 5, 6]], dtype=torch.float32)\n",
    "z = torch.mean(x, dim=0)  # through height\n",
    "print(z)\n",
    "z = torch.mean(x, dim=1)  # through width\n",
    "print(z)\n",
    "z = torch.mean(x, dim=(0, 1))  # through height and width\n",
    "print(z)"
   ]
  },
  {
   "attachments": {},
   "cell_type": "markdown",
   "metadata": {},
   "source": [
    "**Clamp operation**\n",
    "\n",
    "Clamps all elements in input into the range [ min, max ].​​\n",
    "\n",
    "References:​\n",
    "\n",
    "https://pytorch.org/docs/stable/generated/torch.clamp.html​\n"
   ]
  },
  {
   "cell_type": "code",
   "execution_count": 42,
   "metadata": {},
   "outputs": [
    {
     "name": "stdout",
     "output_type": "stream",
     "text": [
      "tensor(-127.2054) tensor(355.8472)\n",
      "tensor(0.) tensor(255.)\n"
     ]
    }
   ],
   "source": [
    "min = -128\n",
    "max = 365\n",
    "x = (max - min) * torch.rand((2, 5)) + min\n",
    "print(x.min(), x.max())\n",
    "z = torch.clamp(x, min=0, max=255)\n",
    "print(z.min(), z.max())"
   ]
  },
  {
   "attachments": {},
   "cell_type": "markdown",
   "metadata": {},
   "source": [
    "**Indexing**"
   ]
  },
  {
   "cell_type": "code",
   "execution_count": 43,
   "metadata": {},
   "outputs": [
    {
     "name": "stdout",
     "output_type": "stream",
     "text": [
      "torch.Size([64])\n",
      "torch.Size([10])\n",
      "tensor([3, 6, 9])\n",
      "tensor([ 1,  2,  9, 10])\n"
     ]
    }
   ],
   "source": [
    "x = torch.rand((10, 64))\n",
    "print(x[0].shape)\n",
    "print(x[:, 0].shape)\n",
    "\n",
    "x = torch.tensor([1, 2, 3, 4, 5, 6, 7, 8, 9, 10])\n",
    "z = x[[2, 5, 8]]\n",
    "print(z)\n",
    "x = torch.tensor([1, 2, 3, 4, 5, 6, 7, 8, 9, 10])\n",
    "z = x[(x < 3) | (x > 8)]\n",
    "print(z)"
   ]
  },
  {
   "cell_type": "code",
   "execution_count": 44,
   "metadata": {},
   "outputs": [
    {
     "name": "stdout",
     "output_type": "stream",
     "text": [
      "(64,)\n",
      "(10,)\n",
      "[3 6 9]\n",
      "[ 1  2  9 10]\n"
     ]
    }
   ],
   "source": [
    "x = np.random.rand(10, 64)\n",
    "print(x[0].shape)\n",
    "print(x[:, 0].shape)\n",
    "\n",
    "x = np.array([1, 2, 3, 4, 5, 6, 7, 8, 9, 10])\n",
    "z = x[[2, 5, 8]]\n",
    "print(z)\n",
    "x = np.array([1, 2, 3, 4, 5, 6, 7, 8, 9, 10])\n",
    "z = x[(x < 3) | (x > 8)]\n",
    "print(z)"
   ]
  },
  {
   "cell_type": "code",
   "execution_count": 45,
   "metadata": {},
   "outputs": [],
   "source": [
    "# x = [1, 2, 3, 4, 5, 6, 7, 8, 9, 10]\n",
    "# z = x[[2, 5, 8]]\n",
    "# print(z)\n",
    "# x = [1, 2, 3, 4, 5, 6, 7, 8, 9, 10]\n",
    "# z = x[(x<3) | (x>8)]\n",
    "# print(z)"
   ]
  },
  {
   "attachments": {},
   "cell_type": "markdown",
   "metadata": {},
   "source": [
    "**Reshaping​:** Returns a new tensor with the same data as the self tensor but of a different shape.\n",
    "\n",
    "References:​\n",
    "\n",
    "https://pytorch.org/docs/stable/generated/torch.Tensor.view.html"
   ]
  },
  {
   "cell_type": "code",
   "execution_count": 46,
   "metadata": {},
   "outputs": [
    {
     "name": "stdout",
     "output_type": "stream",
     "text": [
      "torch.Size([9])\n",
      "tensor([[1, 2, 3],\n",
      "        [4, 5, 6],\n",
      "        [7, 8, 9]])\n",
      "torch.Size([3, 3])\n",
      "torch.Size([3, 3])\n",
      "tensor([[1, 2, 3],\n",
      "        [4, 5, 6],\n",
      "        [7, 8, 9]])\n"
     ]
    }
   ],
   "source": [
    "x = torch.tensor([1, 2, 3, 4, 5, 6, 7, 8, 9])\n",
    "print(x.size())\n",
    "z = x.view(3, 3)\n",
    "print(z)\n",
    "print(z.size())\n",
    "z = x.view(3, -1)  # if other dimension is not known​\n",
    "print(z.size())\n",
    "print(z)"
   ]
  },
  {
   "attachments": {},
   "cell_type": "markdown",
   "metadata": {},
   "source": [
    "**Transpose​:** Performs tranpose of matrix\n",
    "\n",
    "References:​\n",
    "\n",
    "https://pytorch.org/docs/stable/generated/torch.t.html​\n"
   ]
  },
  {
   "cell_type": "code",
   "execution_count": 47,
   "metadata": {},
   "outputs": [
    {
     "name": "stdout",
     "output_type": "stream",
     "text": [
      "tensor([[0.3453, 0.1829, 0.0977],\n",
      "        [0.8530, 0.2664, 0.9835],\n",
      "        [0.5066, 0.3739, 0.2430]])\n",
      "tensor([[0.3453, 0.8530, 0.5066],\n",
      "        [0.1829, 0.2664, 0.3739],\n",
      "        [0.0977, 0.9835, 0.2430]])\n"
     ]
    }
   ],
   "source": [
    "x = torch.rand(size=(3, 3))\n",
    "print(x)\n",
    "z = x.t()\n",
    "print(z)"
   ]
  },
  {
   "attachments": {},
   "cell_type": "markdown",
   "metadata": {},
   "source": [
    "**Flatten:​** Flattens input by reshaping it into a one-dimensional tensor\n",
    "\n",
    "References:\n",
    "\n",
    "https://pytorch.org/docs/stable/generated/torch.flatten.html"
   ]
  },
  {
   "cell_type": "code",
   "execution_count": 48,
   "metadata": {},
   "outputs": [
    {
     "name": "stdout",
     "output_type": "stream",
     "text": [
      "tensor([[0.9245, 0.3522, 0.6519],\n",
      "        [0.5641, 0.6606, 0.4910],\n",
      "        [0.9999, 0.1200, 0.2491]])\n",
      "tensor([0.9245, 0.3522, 0.6519, 0.5641, 0.6606, 0.4910, 0.9999, 0.1200, 0.2491])\n",
      "tensor([0.9245, 0.3522, 0.6519, 0.5641, 0.6606, 0.4910, 0.9999, 0.1200, 0.2491])\n"
     ]
    }
   ],
   "source": [
    "x = torch.rand(size=(3, 3))\n",
    "print(x)\n",
    "z = torch.flatten(x)\n",
    "print(z)\n",
    "\n",
    "z = x.view(-1)\n",
    "print(z)"
   ]
  },
  {
   "attachments": {},
   "cell_type": "markdown",
   "metadata": {},
   "source": [
    "**Concat operation​:** Concatenates the given sequence tensors in the given dimension. All tensors must either have the same shape (except in the concatenating dimension) or be empty.\n",
    "​\n",
    "\n",
    "References:​\n",
    "\n",
    "https://pytorch.org/docs/stable/generated/torch.cat.html​"
   ]
  },
  {
   "cell_type": "code",
   "execution_count": 49,
   "metadata": {},
   "outputs": [
    {
     "name": "stdout",
     "output_type": "stream",
     "text": [
      "torch.Size([10, 3, 128, 128])\n",
      "torch.Size([10, 3, 128, 128])\n",
      "torch.Size([20, 3, 128, 128])\n",
      "torch.Size([10, 6, 128, 128])\n"
     ]
    }
   ],
   "source": [
    "x = torch.rand(size=(10, 3, 128, 128))\n",
    "y = torch.rand(size=(10, 3, 128, 128))\n",
    "print(x.size())\n",
    "print(y.size())\n",
    "\n",
    "z = torch.cat([x, y], dim=0)\n",
    "print(z.size())\n",
    "\n",
    "z = torch.cat([x, y], dim=1)\n",
    "print(z.size())"
   ]
  },
  {
   "attachments": {},
   "cell_type": "markdown",
   "metadata": {},
   "source": [
    "**Dimension switch:​** Returns a view of the original tensor input with its dimensions permuted.\n",
    "\n",
    "\n",
    "References:​\n",
    "\n",
    "https://pytorch.org/docs/stable/generated/torch.permute.html​"
   ]
  },
  {
   "cell_type": "code",
   "execution_count": 50,
   "metadata": {},
   "outputs": [
    {
     "name": "stdout",
     "output_type": "stream",
     "text": [
      "torch.Size([10, 3, 128, 128])\n",
      "torch.Size([10, 128, 128, 3])\n"
     ]
    }
   ],
   "source": [
    "x = torch.rand(size=(10, 3, 128, 128))\n",
    "print(x.shape)\n",
    "z = x.permute(0, 2, 3, 1)\n",
    "print(z.size())"
   ]
  },
  {
   "attachments": {},
   "cell_type": "markdown",
   "metadata": {},
   "source": [
    "**Adding or Removing extra dimension​:**\n",
    "\n",
    "Squeeze: Returns a tensor with all the dimensions of input of size 1 removed.\n",
    "\n",
    "Unsqueeze: Returns a new tensor with a dimension of size one inserted at the specified position.\n",
    "\n",
    "References:​\n",
    "\n",
    "https://pytorch.org/docs/stable/generated/torch.squeeze.html​\n",
    "\n",
    "https://pytorch.org/docs/stable/generated/torch.unsqueeze.html​"
   ]
  },
  {
   "cell_type": "code",
   "execution_count": 51,
   "metadata": {},
   "outputs": [
    {
     "name": "stdout",
     "output_type": "stream",
     "text": [
      "torch.Size([3, 128, 128])\n",
      "torch.Size([1, 3, 128, 128])\n",
      "torch.Size([3, 128, 128])\n"
     ]
    }
   ],
   "source": [
    "x = torch.rand(size=(3, 128, 128))\n",
    "print(x.size())\n",
    "z = x.unsqueeze(0)\n",
    "print(z.size())\n",
    "y = z.squeeze(0)\n",
    "print(y.size())"
   ]
  },
  {
   "cell_type": "code",
   "execution_count": null,
   "metadata": {},
   "outputs": [],
   "source": []
  }
 ],
 "metadata": {
  "kernelspec": {
   "display_name": "vi",
   "language": "python",
   "name": "python3"
  },
  "language_info": {
   "codemirror_mode": {
    "name": "ipython",
    "version": 3
   },
   "file_extension": ".py",
   "mimetype": "text/x-python",
   "name": "python",
   "nbconvert_exporter": "python",
   "pygments_lexer": "ipython3",
   "version": "3.8.10"
  },
  "orig_nbformat": 4,
  "vscode": {
   "interpreter": {
    "hash": "fb41d5f3b6287522a8101e9df2ff5c7654649e30b04e8911d8b922634c042846"
   }
  }
 },
 "nbformat": 4,
 "nbformat_minor": 2
}
