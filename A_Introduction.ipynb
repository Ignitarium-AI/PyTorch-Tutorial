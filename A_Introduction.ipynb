{
 "cells": [
  {
   "attachments": {},
   "cell_type": "markdown",
   "metadata": {},
   "source": [
    "# Pytorch Basics\n",
    "\n",
    "#### Requirements\n",
    "python​​3.x\\\n",
    "vscode or jupyter notebook\n",
    "\n",
    "#### Create Virtual Environment\n",
    "python3 -m venv venv3\\\n",
    "source venv3/bin/activate​\n",
    "#### Visit pytorch website and get pytorch install command.​\n",
    "\n",
    "Web: https://pytorch.org/get-started/locally/​"
   ]
  },
  {
   "cell_type": "code",
   "execution_count": 1,
   "metadata": {},
   "outputs": [],
   "source": [
    "# verify pytorch installation\n",
    "import torch"
   ]
  },
  {
   "cell_type": "code",
   "execution_count": 2,
   "metadata": {},
   "outputs": [
    {
     "name": "stdout",
     "output_type": "stream",
     "text": [
      "1.13.1+cu117\n"
     ]
    }
   ],
   "source": [
    "print(torch.__version__)"
   ]
  },
  {
   "attachments": {},
   "cell_type": "markdown",
   "metadata": {},
   "source": [
    "#### A tensor of : Height = 2,  Width = 3"
   ]
  },
  {
   "cell_type": "code",
   "execution_count": 3,
   "metadata": {},
   "outputs": [
    {
     "name": "stdout",
     "output_type": "stream",
     "text": [
      "tensor([[1, 2, 3],\n",
      "        [4, 5, 6]])\n"
     ]
    }
   ],
   "source": [
    "tensor_a = torch.tensor([[1, 2, 3], [4, 5, 6]])  # Two rows, three columns\n",
    "print(tensor_a)"
   ]
  },
  {
   "cell_type": "code",
   "execution_count": 4,
   "metadata": {},
   "outputs": [
    {
     "data": {
      "text/plain": [
       "torch.Size([2, 3])"
      ]
     },
     "execution_count": 4,
     "metadata": {},
     "output_type": "execute_result"
    }
   ],
   "source": [
    "tensor_a.shape"
   ]
  },
  {
   "attachments": {},
   "cell_type": "markdown",
   "metadata": {},
   "source": [
    "A tensor of : Chanel = 3, Height = 2, Width = 1"
   ]
  },
  {
   "cell_type": "code",
   "execution_count": 5,
   "metadata": {},
   "outputs": [],
   "source": [
    "tensor_b = torch.tensor(\n",
    "    [[[1], [4]], [[1], [4]], [[1], [4]]]\n",
    ")  # Three channels, two rows, one column"
   ]
  },
  {
   "cell_type": "code",
   "execution_count": 6,
   "metadata": {},
   "outputs": [
    {
     "data": {
      "text/plain": [
       "tensor([[[1],\n",
       "         [4]],\n",
       "\n",
       "        [[1],\n",
       "         [4]],\n",
       "\n",
       "        [[1],\n",
       "         [4]]])"
      ]
     },
     "execution_count": 6,
     "metadata": {},
     "output_type": "execute_result"
    }
   ],
   "source": [
    "tensor_b"
   ]
  },
  {
   "attachments": {},
   "cell_type": "markdown",
   "metadata": {},
   "source": [
    "Axis 0, 1, 2"
   ]
  },
  {
   "cell_type": "code",
   "execution_count": 7,
   "metadata": {},
   "outputs": [
    {
     "data": {
      "text/plain": [
       "torch.Size([3, 2, 1])"
      ]
     },
     "execution_count": 7,
     "metadata": {},
     "output_type": "execute_result"
    }
   ],
   "source": [
    "tensor_b.shape"
   ]
  },
  {
   "attachments": {},
   "cell_type": "markdown",
   "metadata": {},
   "source": [
    "**We can also specify data type while creating tensor**\n",
    "\n",
    "References: https://pytorch.org/docs/stable/tensors.html#data-types"
   ]
  },
  {
   "cell_type": "code",
   "execution_count": 8,
   "metadata": {},
   "outputs": [
    {
     "name": "stdout",
     "output_type": "stream",
     "text": [
      "tensor([[1., 2., 3.],\n",
      "        [4., 5., 6.]], dtype=torch.float16)\n"
     ]
    }
   ],
   "source": [
    "tensor_a = torch.tensor(\n",
    "    [[1, 2, 3], [4, 5, 6]], dtype=torch.float16\n",
    ")  # two rows and three columns tensor with float16 values\n",
    "print(tensor_a)"
   ]
  },
  {
   "attachments": {},
   "cell_type": "markdown",
   "metadata": {},
   "source": [
    "**We can also specify device type while creating tensor**\n",
    "\n",
    "References: https://pytorch.org/docs/stable/tensor_attributes.html#torch-device"
   ]
  },
  {
   "cell_type": "code",
   "execution_count": 9,
   "metadata": {},
   "outputs": [
    {
     "name": "stdout",
     "output_type": "stream",
     "text": [
      "False\n"
     ]
    }
   ],
   "source": [
    "print(torch.cuda.is_available())"
   ]
  },
  {
   "cell_type": "code",
   "execution_count": 10,
   "metadata": {},
   "outputs": [],
   "source": [
    "## usual practise is that we decide device in start\n",
    "\n",
    "device = \"cuda\" if torch.cuda.is_available() else \"cpu\"\n",
    "tensor_c = torch.tensor(\n",
    "    [[1, 2, 3], [4, 5, 6]], dtype=torch.float32, device=device\n",
    ")  # two rows and three columns tensor with float32 values on specified device"
   ]
  },
  {
   "cell_type": "code",
   "execution_count": 11,
   "metadata": {},
   "outputs": [
    {
     "data": {
      "text/plain": [
       "tensor([[1., 2., 3.],\n",
       "        [4., 5., 6.]])"
      ]
     },
     "execution_count": 11,
     "metadata": {},
     "output_type": "execute_result"
    }
   ],
   "source": [
    "tensor_c"
   ]
  },
  {
   "attachments": {},
   "cell_type": "markdown",
   "metadata": {},
   "source": [
    "**Move tensor across devices**"
   ]
  },
  {
   "cell_type": "code",
   "execution_count": 12,
   "metadata": {},
   "outputs": [],
   "source": [
    "device = \"cuda\" if torch.cuda.is_available() else \"cpu\""
   ]
  },
  {
   "cell_type": "code",
   "execution_count": 13,
   "metadata": {},
   "outputs": [],
   "source": [
    "tensor_a = torch.tensor([[1, 2, 3], [4, 5, 6]])\n",
    "tensor_a = tensor_a.to(device)"
   ]
  },
  {
   "attachments": {},
   "cell_type": "markdown",
   "metadata": {},
   "source": [
    "#### Common Initialization methods:​\n",
    "\n",
    "​\n",
    "**Uninitialized data:**\n",
    "\n",
    "reference: ​\n",
    "\n",
    "https://pytorch.org/docs/stable/generated/torch.empty.html​"
   ]
  },
  {
   "cell_type": "code",
   "execution_count": 14,
   "metadata": {},
   "outputs": [
    {
     "name": "stdout",
     "output_type": "stream",
     "text": [
      "tensor([[ 1.4013e-44,  4.5743e-41, -3.4924e+14,  3.0773e-41,  1.5863e-42,\n",
      "          2.6625e-44, -3.4925e+14,  3.0773e-41,  1.4013e-44,  0.0000e+00],\n",
      "        [-3.4924e+14,  3.0773e-41,  1.5877e-42,  0.0000e+00, -3.4925e+14,\n",
      "          3.0773e-41,  1.4013e-44,  0.0000e+00, -3.4925e+14,  3.0773e-41],\n",
      "        [ 1.5891e-42,  0.0000e+00, -3.4925e+14,  3.0773e-41,  1.4013e-44,\n",
      "          0.0000e+00, -3.4925e+14,  3.0773e-41,  1.5905e-42,  0.0000e+00],\n",
      "        [-3.4925e+14,  3.0773e-41,  1.4013e-44,  0.0000e+00, -3.4925e+14,\n",
      "          3.0773e-41,  1.5961e-42,  0.0000e+00, -3.4925e+14,  3.0773e-41],\n",
      "        [ 1.4013e-44,  0.0000e+00, -3.4925e+14,  3.0773e-41,  2.8026e-44,\n",
      "          0.0000e+00, -2.8314e+38,  4.5743e-41,  0.0000e+00,  0.0000e+00],\n",
      "        [-3.4925e+14,  3.0773e-41,  1.4013e-45,  3.0829e-44,  1.4013e-45,\n",
      "          3.3631e-44,  2.8026e-44,  0.0000e+00, -2.8314e+38,  4.5743e-41],\n",
      "        [ 0.0000e+00,  0.0000e+00, -3.4925e+14,  3.0773e-41,  1.4013e-45,\n",
      "          3.0829e-44,  1.4013e-45,  3.3631e-44,  1.5947e-42,  0.0000e+00],\n",
      "        [-3.4925e+14,  3.0773e-41,  1.4013e-44,  4.0638e-44, -3.4925e+14,\n",
      "          3.0773e-41,  1.5919e-42,  0.0000e+00, -3.4925e+14,  3.0773e-41],\n",
      "        [ 1.4013e-44,  0.0000e+00, -3.4925e+14,  3.0773e-41,  1.5653e-42,\n",
      "          4.0638e-44, -3.4925e+14,  3.0773e-41,  1.4013e-44,  0.0000e+00],\n",
      "        [-3.4926e+14,  3.0773e-41,  1.5638e-42,  7.0065e-45, -3.4925e+14,\n",
      "          3.0773e-41,  1.4013e-44,  0.0000e+00, -3.4926e+14,  3.0773e-41]])\n"
     ]
    }
   ],
   "source": [
    "x = torch.empty(size=(10, 10))\n",
    "print(x)"
   ]
  },
  {
   "attachments": {},
   "cell_type": "markdown",
   "metadata": {},
   "source": [
    "**All zero data**\n",
    "\n",
    "reference:\n",
    "https://pytorch.org/docs/stable/generated/torch.zeros.html"
   ]
  },
  {
   "cell_type": "code",
   "execution_count": 15,
   "metadata": {},
   "outputs": [
    {
     "name": "stdout",
     "output_type": "stream",
     "text": [
      "tensor([[0., 0., 0., 0., 0., 0., 0., 0., 0., 0.],\n",
      "        [0., 0., 0., 0., 0., 0., 0., 0., 0., 0.],\n",
      "        [0., 0., 0., 0., 0., 0., 0., 0., 0., 0.],\n",
      "        [0., 0., 0., 0., 0., 0., 0., 0., 0., 0.],\n",
      "        [0., 0., 0., 0., 0., 0., 0., 0., 0., 0.],\n",
      "        [0., 0., 0., 0., 0., 0., 0., 0., 0., 0.],\n",
      "        [0., 0., 0., 0., 0., 0., 0., 0., 0., 0.],\n",
      "        [0., 0., 0., 0., 0., 0., 0., 0., 0., 0.],\n",
      "        [0., 0., 0., 0., 0., 0., 0., 0., 0., 0.],\n",
      "        [0., 0., 0., 0., 0., 0., 0., 0., 0., 0.]])\n"
     ]
    }
   ],
   "source": [
    "x = torch.zeros(size=(10, 10))\n",
    "print(x)"
   ]
  },
  {
   "attachments": {},
   "cell_type": "markdown",
   "metadata": {},
   "source": [
    "**All ones data**​\n",
    "\n",
    "reference: ​\n",
    "https://pytorch.org/docs/stable/generated/torch.ones.html​​"
   ]
  },
  {
   "cell_type": "code",
   "execution_count": 16,
   "metadata": {},
   "outputs": [
    {
     "name": "stdout",
     "output_type": "stream",
     "text": [
      "tensor([[1., 1., 1., 1., 1., 1., 1., 1., 1., 1.],\n",
      "        [1., 1., 1., 1., 1., 1., 1., 1., 1., 1.],\n",
      "        [1., 1., 1., 1., 1., 1., 1., 1., 1., 1.],\n",
      "        [1., 1., 1., 1., 1., 1., 1., 1., 1., 1.],\n",
      "        [1., 1., 1., 1., 1., 1., 1., 1., 1., 1.],\n",
      "        [1., 1., 1., 1., 1., 1., 1., 1., 1., 1.],\n",
      "        [1., 1., 1., 1., 1., 1., 1., 1., 1., 1.],\n",
      "        [1., 1., 1., 1., 1., 1., 1., 1., 1., 1.],\n",
      "        [1., 1., 1., 1., 1., 1., 1., 1., 1., 1.],\n",
      "        [1., 1., 1., 1., 1., 1., 1., 1., 1., 1.]])\n"
     ]
    }
   ],
   "source": [
    "x = torch.ones(size=(10, 10))\n",
    "print(x)"
   ]
  },
  {
   "attachments": {},
   "cell_type": "markdown",
   "metadata": {},
   "source": [
    "**All random numbers with uniform distribution between interval [0, 1)​**​​\n",
    "​\n",
    "\n",
    "References: ​\n",
    "\n",
    "https://pytorch.org/docs/stable/generated/torch.rand.html​\n",
    "\n",
    "​"
   ]
  },
  {
   "cell_type": "code",
   "execution_count": 17,
   "metadata": {},
   "outputs": [
    {
     "name": "stdout",
     "output_type": "stream",
     "text": [
      "tensor([[0.5527, 0.5512, 0.8526, 0.8328, 0.7476],\n",
      "        [0.0975, 0.5877, 0.6356, 0.4042, 0.9845],\n",
      "        [0.8052, 0.0486, 0.2180, 0.1083, 0.7497],\n",
      "        [0.7274, 0.7963, 0.4496, 0.9178, 0.3041],\n",
      "        [0.6591, 0.9026, 0.6019, 0.2236, 0.8022]])\n"
     ]
    }
   ],
   "source": [
    "x = torch.rand(size=(5, 5))\n",
    "print(x)"
   ]
  },
  {
   "attachments": {},
   "cell_type": "markdown",
   "metadata": {},
   "source": [
    "**All random numbers with uniform distribution between with given mean and std dev​**\n",
    "\n",
    "<b>NOTE: \"_\" after normal means that it is an inplace operation​</b>\n",
    "\n",
    "References: ​\n",
    "\n",
    "https://pytorch.org/docs/stable/generated/torch.rand.html​"
   ]
  },
  {
   "cell_type": "code",
   "execution_count": 18,
   "metadata": {},
   "outputs": [
    {
     "name": "stdout",
     "output_type": "stream",
     "text": [
      "tensor([[ 1.4775, -0.1794, -2.3660, -1.5134, -5.0399],\n",
      "        [-1.9835,  5.2303,  1.3664,  1.1181, -3.9798],\n",
      "        [-0.5099, -3.8679, -1.3637, -3.7752, -0.9410],\n",
      "        [ 1.9416,  0.0572, -0.7178, -0.3660,  0.6043],\n",
      "        [-0.2658, -3.7026, -0.6004,  0.5982,  0.2120]])\n"
     ]
    }
   ],
   "source": [
    "x = torch.empty(size=(5, 5)).normal_(mean=0, std=2)\n",
    "print(x)"
   ]
  },
  {
   "attachments": {},
   "cell_type": "markdown",
   "metadata": {},
   "source": [
    "**Create evenly spaced values between given range​**\n",
    "\n",
    "References:​\n",
    "\n",
    "https://pytorch.org/docs/stable/generated/torch.linspace.html"
   ]
  },
  {
   "cell_type": "code",
   "execution_count": 19,
   "metadata": {},
   "outputs": [
    {
     "name": "stdout",
     "output_type": "stream",
     "text": [
      "tensor([ 1.0000,  5.4167,  9.8333, 14.2500, 18.6667, 23.0833, 27.5000, 31.9167,\n",
      "        36.3333, 40.7500, 45.1667, 49.5833, 54.0000])\n"
     ]
    }
   ],
   "source": [
    "# create list of 13 numbers between 1 to 54 which are evenly spaced\n",
    "x = torch.linspace(start=1, end=54, steps=13)\n",
    "print(x)"
   ]
  },
  {
   "attachments": {},
   "cell_type": "markdown",
   "metadata": {},
   "source": [
    "**Identity matrix**​\n",
    "\n",
    "reference: ​\n",
    "\n",
    "https://pytorch.org/docs/stable/generated/torch.eye.html​"
   ]
  },
  {
   "cell_type": "code",
   "execution_count": 20,
   "metadata": {},
   "outputs": [
    {
     "name": "stdout",
     "output_type": "stream",
     "text": [
      "tensor([[1., 0., 0., 0., 0.],\n",
      "        [0., 1., 0., 0., 0.],\n",
      "        [0., 0., 1., 0., 0.],\n",
      "        [0., 0., 0., 1., 0.],\n",
      "        [0., 0., 0., 0., 1.]])\n"
     ]
    }
   ],
   "source": [
    "x = torch.eye(5, 5)\n",
    "print(x)"
   ]
  },
  {
   "attachments": {},
   "cell_type": "markdown",
   "metadata": {},
   "source": [
    "**Create list of values​**\n",
    "\n",
    "References: ​\n",
    "\n",
    "https://pytorch.org/docs/stable/generated/torch.arange.html​"
   ]
  },
  {
   "cell_type": "code",
   "execution_count": 21,
   "metadata": {},
   "outputs": [
    {
     "name": "stdout",
     "output_type": "stream",
     "text": [
      "tensor([ 0, 20, 40, 60, 80])\n"
     ]
    }
   ],
   "source": [
    "# create list of values atarting from 0 to 100 with step size of 20\n",
    "x = torch.arange(start=0, end=100, step=20)\n",
    "print(x)"
   ]
  },
  {
   "attachments": {},
   "cell_type": "markdown",
   "metadata": {},
   "source": [
    "**Changing tensor types**"
   ]
  },
  {
   "cell_type": "code",
   "execution_count": 22,
   "metadata": {},
   "outputs": [
    {
     "name": "stdout",
     "output_type": "stream",
     "text": [
      "tensor([ True, False,  True,  True,  True])\n",
      "tensor([-1,  0,  1,  2,  3], dtype=torch.int16)\n",
      "tensor([-1,  0,  1,  2,  3])\n",
      "tensor([-1.,  0.,  1.,  2.,  3.], dtype=torch.float16)\n",
      "tensor([-1.,  0.,  1.,  2.,  3.])\n",
      "tensor([-1.,  0.,  1.,  2.,  3.], dtype=torch.float64)\n"
     ]
    }
   ],
   "source": [
    "tensor = torch.tensor([-1, 0, 1, 2, 3])  # int64​\n",
    "print(tensor.bool())  # [True, false, True, True, True]​\n",
    "print(tensor.short())  # int16​\n",
    "print(tensor.long())  # int64​\n",
    "print(tensor.half())  # float16​\n",
    "print(tensor.float())  # float32​\n",
    "print(tensor.double())  # float64"
   ]
  },
  {
   "attachments": {},
   "cell_type": "markdown",
   "metadata": {},
   "source": [
    "**Convert between numpy and torch tensor​**\n",
    "\n",
    "References:​\n",
    "\n",
    "https://pytorch.org/docs/stable/generated/torch.from_numpy.html​\n",
    "\n",
    "https://pytorch.org/docs/stable/generated/torch.Tensor.numpy.html"
   ]
  },
  {
   "cell_type": "code",
   "execution_count": 23,
   "metadata": {},
   "outputs": [
    {
     "name": "stdout",
     "output_type": "stream",
     "text": [
      "[[0.14776683 0.6667     0.42254898 0.77647885 0.22955186]\n",
      " [0.48925051 0.35780103 0.31761522 0.56226993 0.64799746]\n",
      " [0.0969362  0.88294646 0.1325485  0.21415782 0.15728616]\n",
      " [0.66893868 0.86242267 0.71158171 0.81134987 0.2436438 ]\n",
      " [0.5398995  0.57759583 0.37733429 0.46963586 0.56987773]]\n",
      "tensor([[0.1478, 0.6667, 0.4225, 0.7765, 0.2296],\n",
      "        [0.4893, 0.3578, 0.3176, 0.5623, 0.6480],\n",
      "        [0.0969, 0.8829, 0.1325, 0.2142, 0.1573],\n",
      "        [0.6689, 0.8624, 0.7116, 0.8113, 0.2436],\n",
      "        [0.5399, 0.5776, 0.3773, 0.4696, 0.5699]], dtype=torch.float64)\n",
      "[[0.14776683 0.6667     0.42254898 0.77647885 0.22955186]\n",
      " [0.48925051 0.35780103 0.31761522 0.56226993 0.64799746]\n",
      " [0.0969362  0.88294646 0.1325485  0.21415782 0.15728616]\n",
      " [0.66893868 0.86242267 0.71158171 0.81134987 0.2436438 ]\n",
      " [0.5398995  0.57759583 0.37733429 0.46963586 0.56987773]]\n"
     ]
    }
   ],
   "source": [
    "import numpy as np\n",
    "\n",
    "numpy_array = np.random.rand(5, 5)\n",
    "print(numpy_array)\n",
    "torch_array = torch.from_numpy(numpy_array)\n",
    "print(torch_array)\n",
    "numpy_array_recon = torch_array.numpy()\n",
    "print(numpy_array_recon)"
   ]
  },
  {
   "attachments": {},
   "cell_type": "markdown",
   "metadata": {},
   "source": [
    "**Addition**\n",
    "\n",
    "**Method-1:**\n",
    "\n",
    "References:\n",
    "\n",
    "https://pytorch.org/docs/stable/generated/torch.sub.html"
   ]
  },
  {
   "cell_type": "code",
   "execution_count": 24,
   "metadata": {},
   "outputs": [
    {
     "name": "stdout",
     "output_type": "stream",
     "text": [
      "tensor([5., 7., 9.])\n"
     ]
    }
   ],
   "source": [
    "x = torch.tensor([1, 2, 3])\n",
    "y = torch.tensor([4, 5, 6])\n",
    "\n",
    "z = torch.empty(3)\n",
    "torch.add(x, y, out=z)\n",
    "print(z)"
   ]
  },
  {
   "attachments": {},
   "cell_type": "markdown",
   "metadata": {},
   "source": [
    "**Method-2:**\n",
    "\n",
    "References:\n",
    "\n",
    "https://pytorch.org/docs/stable/generated/torch.add.html\n",
    "\n",
    "https://pytorch.org/docs/stable/generated/torch.Tensor.add_.html"
   ]
  },
  {
   "cell_type": "code",
   "execution_count": 25,
   "metadata": {},
   "outputs": [
    {
     "name": "stdout",
     "output_type": "stream",
     "text": [
      "tensor([5, 7, 9])\n"
     ]
    }
   ],
   "source": [
    "x = torch.tensor([1, 2, 3])\n",
    "y = torch.tensor([4, 5, 6])\n",
    "z = torch.add(x, y)\n",
    "print(z)"
   ]
  },
  {
   "attachments": {},
   "cell_type": "markdown",
   "metadata": {},
   "source": [
    "**Method-3:**\n",
    "\n",
    "reference:\n",
    "\n",
    "https://pytorch.org/docs/stable/generated/torch.add.html\n",
    "\n",
    "https://pytorch.org/docs/stable/generated/torch.Tensor.add_.html"
   ]
  },
  {
   "cell_type": "code",
   "execution_count": 26,
   "metadata": {},
   "outputs": [
    {
     "name": "stdout",
     "output_type": "stream",
     "text": [
      "tensor([5, 7, 9])\n"
     ]
    }
   ],
   "source": [
    "x = torch.tensor([1, 2, 3])\n",
    "y = torch.tensor([4, 5, 6])\n",
    "z = x + y\n",
    "print(z)"
   ]
  },
  {
   "attachments": {},
   "cell_type": "markdown",
   "metadata": {},
   "source": [
    "**Inplace addition**\n",
    "\n",
    "reference:\n",
    "\n",
    "https://pytorch.org/docs/stable/generated/torch.add.html\n",
    "\n",
    "https://pytorch.org/docs/stable/generated/torch.Tensor.add_.html"
   ]
  },
  {
   "cell_type": "code",
   "execution_count": 27,
   "metadata": {},
   "outputs": [
    {
     "name": "stdout",
     "output_type": "stream",
     "text": [
      "tensor([3, 4, 5])\n"
     ]
    }
   ],
   "source": [
    "x = torch.tensor([1, 2, 3])\n",
    "y = 2\n",
    "x.add_(y)\n",
    "print(x)"
   ]
  },
  {
   "attachments": {},
   "cell_type": "markdown",
   "metadata": {},
   "source": [
    "**Subtraction​**\n",
    "\n",
    "References:​\n",
    "\n",
    "https://pytorch.org/docs/stable/generated/torch.sub.html​\n",
    "\n",
    "https://pytorch.org/docs/stable/generated/torch.Tensor.sub_.html​"
   ]
  },
  {
   "cell_type": "code",
   "execution_count": 28,
   "metadata": {},
   "outputs": [
    {
     "name": "stdout",
     "output_type": "stream",
     "text": [
      "tensor([-3, -3, -3])\n"
     ]
    }
   ],
   "source": [
    "x = torch.tensor([1, 2, 3])\n",
    "y = torch.tensor([4, 5, 6])\n",
    "z = x - y\n",
    "print(z)"
   ]
  },
  {
   "attachments": {},
   "cell_type": "markdown",
   "metadata": {},
   "source": [
    "**Inplace subtraction​**\n",
    "​\n",
    "\n",
    "References:​\n",
    "\n",
    "https://pytorch.org/docs/stable/generated/torch.sub.html​\n",
    "\n",
    "https://pytorch.org/docs/stable/generated/torch.Tensor.sub_.html​"
   ]
  },
  {
   "cell_type": "code",
   "execution_count": 29,
   "metadata": {},
   "outputs": [
    {
     "data": {
      "text/plain": [
       "tensor([-1,  0,  1])"
      ]
     },
     "execution_count": 29,
     "metadata": {},
     "output_type": "execute_result"
    }
   ],
   "source": [
    "x = torch.tensor([1, 2, 3])\n",
    "y = 2\n",
    "x.sub_(y)"
   ]
  },
  {
   "attachments": {},
   "cell_type": "markdown",
   "metadata": {},
   "source": [
    "**Element wise multiplication if both are tensor and of same shape​**\n",
    "\n",
    "​\n",
    "References:​\n",
    "\n",
    "https://pytorch.org/docs/stable/generated/torch.mul.html​"
   ]
  },
  {
   "cell_type": "code",
   "execution_count": 30,
   "metadata": {},
   "outputs": [
    {
     "name": "stdout",
     "output_type": "stream",
     "text": [
      "tensor([ 4, 10, 18])\n"
     ]
    }
   ],
   "source": [
    "x = torch.tensor([1, 2, 3])\n",
    "y = torch.tensor([4, 5, 6])\n",
    "\n",
    "z = torch.mul(x, y)  # can be written as z = x * y also​\n",
    "print(z)"
   ]
  },
  {
   "attachments": {},
   "cell_type": "markdown",
   "metadata": {},
   "source": [
    "**Scalar multiplication of elements from first array with integer provided as second element​**\n",
    "\n",
    "References:​\n",
    "\n",
    "https://pytorch.org/docs/stable/generated/torch.mul.html​"
   ]
  },
  {
   "cell_type": "code",
   "execution_count": 31,
   "metadata": {},
   "outputs": [
    {
     "name": "stdout",
     "output_type": "stream",
     "text": [
      "tensor([2, 4, 6])\n"
     ]
    }
   ],
   "source": [
    "x = torch.tensor([1, 2, 3])\n",
    "y = 2\n",
    "\n",
    "z = torch.mul(x, y)  # can be written as z = x * y also\n",
    "print(z)"
   ]
  },
  {
   "attachments": {},
   "cell_type": "markdown",
   "metadata": {},
   "source": [
    "**Element wise division if both are tensor and of same shape​**\n",
    "\n",
    "​\n",
    "References:​\n",
    "\n",
    "https://pytorch.org/docs/stable/generated/torch.div.html#torch.div"
   ]
  },
  {
   "cell_type": "code",
   "execution_count": 32,
   "metadata": {},
   "outputs": [
    {
     "name": "stdout",
     "output_type": "stream",
     "text": [
      "tensor([0.2500, 0.4000, 0.5000])\n"
     ]
    }
   ],
   "source": [
    "x = torch.tensor([1, 2, 3])\n",
    "y = torch.tensor([4, 5, 6])\n",
    "\n",
    "z = torch.div(x, y)  # can be written as z = x / y also​\n",
    "print(z)"
   ]
  },
  {
   "attachments": {},
   "cell_type": "markdown",
   "metadata": {},
   "source": [
    "**Scalar division of elements from first array with integer provided as second element​**\n",
    "\n",
    "References:​\n",
    "\n",
    "https://pytorch.org/docs/stable/generated/torch.div.html#torch.div"
   ]
  },
  {
   "cell_type": "code",
   "execution_count": 33,
   "metadata": {},
   "outputs": [
    {
     "name": "stdout",
     "output_type": "stream",
     "text": [
      "tensor([0.5000, 1.0000, 1.5000])\n"
     ]
    }
   ],
   "source": [
    "x = torch.tensor([1, 2, 3])\n",
    "y = 2\n",
    "\n",
    "z = torch.div(x, y)  # can be written as z = x * y also\n",
    "print(z)"
   ]
  },
  {
   "attachments": {},
   "cell_type": "markdown",
   "metadata": {},
   "source": [
    "**Element wise power of tensor:​** Takes the power of each element in input with exponent and returns a tensor with the result.\n",
    "\n",
    "References:​\n",
    "\n",
    "https://pytorch.org/docs/stable/generated/torch.pow.html"
   ]
  },
  {
   "cell_type": "code",
   "execution_count": 34,
   "metadata": {},
   "outputs": [
    {
     "name": "stdout",
     "output_type": "stream",
     "text": [
      "tensor([1, 4, 9])\n"
     ]
    }
   ],
   "source": [
    "x = torch.tensor([1, 2, 3])\n",
    "z = x.pow(2)\n",
    "z = x**2\n",
    "print(z)"
   ]
  },
  {
   "attachments": {},
   "cell_type": "markdown",
   "metadata": {},
   "source": [
    "**Dot product:** Computes the dot product of two 1D tensors.\n",
    "\n",
    "References:​\n",
    "\n",
    "https://pytorch.org/docs/stable/generated/torch.dot.html"
   ]
  },
  {
   "cell_type": "code",
   "execution_count": 35,
   "metadata": {},
   "outputs": [
    {
     "name": "stdout",
     "output_type": "stream",
     "text": [
      "tensor(7)\n"
     ]
    }
   ],
   "source": [
    "x = torch.tensor([2, 3])\n",
    "y = torch.tensor([2, 1])\n",
    "z = torch.dot(x, y)\n",
    "print(z)"
   ]
  },
  {
   "attachments": {},
   "cell_type": "markdown",
   "metadata": {},
   "source": [
    "**Matrix multiplication: ​** Matrix product of two tensors.\n",
    "\n",
    "References:​\n",
    "\n",
    "https://pytorch.org/docs/stable/generated/torch.matmul.html#torch.matmul​"
   ]
  },
  {
   "cell_type": "code",
   "execution_count": 36,
   "metadata": {},
   "outputs": [
    {
     "name": "stdout",
     "output_type": "stream",
     "text": [
      "torch.Size([2, 3])\n",
      "torch.Size([3, 5])\n",
      "torch.Size([2, 5])\n"
     ]
    }
   ],
   "source": [
    "x = torch.randn(2, 3)\n",
    "y = torch.randn(3, 5)\n",
    "z = torch.matmul(x, y)\n",
    "\n",
    "print(x.shape)\n",
    "print(y.shape)\n",
    "print(z.shape)"
   ]
  },
  {
   "attachments": {},
   "cell_type": "markdown",
   "metadata": {},
   "source": [
    "**​Batch matrix multiplication​**\n",
    "\n",
    "References:​\n",
    "\n",
    "https://pytorch.org/docs/stable/generated/torch.matmul.html#torch.matmul​"
   ]
  },
  {
   "cell_type": "code",
   "execution_count": 37,
   "metadata": {},
   "outputs": [
    {
     "name": "stdout",
     "output_type": "stream",
     "text": [
      "torch.Size([10, 2, 3])\n",
      "torch.Size([10, 3, 5])\n",
      "torch.Size([10, 2, 5])\n"
     ]
    }
   ],
   "source": [
    "x = torch.randn(10, 2, 3)\n",
    "y = torch.randn(10, 3, 5)\n",
    "z = torch.matmul(x, y)\n",
    "\n",
    "print(x.shape)\n",
    "print(y.shape)\n",
    "print(z.shape)"
   ]
  },
  {
   "attachments": {},
   "cell_type": "markdown",
   "metadata": {},
   "source": [
    "**Useful Mathematic operations​**\n",
    "\n",
    "**Sum operation:​** Returns the sum of all elements in the input tensor.\n",
    "\n",
    "\n",
    "References:​\n",
    "\n",
    "https://pytorch.org/docs/stable/generated/torch.sum.html"
   ]
  },
  {
   "cell_type": "code",
   "execution_count": 38,
   "metadata": {},
   "outputs": [
    {
     "name": "stdout",
     "output_type": "stream",
     "text": [
      "tensor([[1, 2, 3],\n",
      "        [4, 5, 6]])\n",
      "torch.Size([2, 3])\n",
      "tensor([5, 7, 9])\n",
      "tensor([ 6, 15])\n",
      "tensor(21)\n"
     ]
    }
   ],
   "source": [
    "x = torch.tensor([[1, 2, 3], [4, 5, 6]])\n",
    "print(x)\n",
    "print(x.shape)\n",
    "z = torch.sum(x, dim=0)  # [5, 7, 9]​\n",
    "print(z)\n",
    "z = torch.sum(x, dim=1)  # [6, 15]​\n",
    "print(z)\n",
    "z = torch.sum(x, dim=(0, 1))  # 21​\n",
    "print(z)"
   ]
  },
  {
   "cell_type": "code",
   "execution_count": 39,
   "metadata": {},
   "outputs": [
    {
     "data": {
      "text/plain": [
       "tensor([[[1., 1.],\n",
       "         [1., 1.],\n",
       "         [1., 1.],\n",
       "         [1., 1.]],\n",
       "\n",
       "        [[1., 1.],\n",
       "         [1., 1.],\n",
       "         [1., 1.],\n",
       "         [1., 1.]],\n",
       "\n",
       "        [[1., 1.],\n",
       "         [1., 1.],\n",
       "         [1., 1.],\n",
       "         [1., 1.]]])"
      ]
     },
     "execution_count": 39,
     "metadata": {},
     "output_type": "execute_result"
    }
   ],
   "source": [
    "x = torch.ones(3, 4, 2)\n",
    "x"
   ]
  },
  {
   "attachments": {},
   "cell_type": "markdown",
   "metadata": {},
   "source": [
    "#### sum throguh axis = 0, in this case it means through channels"
   ]
  },
  {
   "cell_type": "code",
   "execution_count": 40,
   "metadata": {},
   "outputs": [
    {
     "name": "stdout",
     "output_type": "stream",
     "text": [
      "tensor([[3., 3.],\n",
      "        [3., 3.],\n",
      "        [3., 3.],\n",
      "        [3., 3.]])\n",
      "torch.Size([4, 2])\n"
     ]
    }
   ],
   "source": [
    "z = torch.sum(x, dim=0)\n",
    "print(z)\n",
    "print(z.shape)"
   ]
  },
  {
   "attachments": {},
   "cell_type": "markdown",
   "metadata": {},
   "source": [
    "**Mean operation:** Returns the mean value of all elements in the input tensor.\n",
    "\n",
    "References:\n",
    "\n",
    "https://pytorch.org/docs/stable/generated/torch.mean.html\n"
   ]
  },
  {
   "cell_type": "code",
   "execution_count": 41,
   "metadata": {},
   "outputs": [
    {
     "name": "stdout",
     "output_type": "stream",
     "text": [
      "tensor([2.5000, 3.5000, 4.5000])\n",
      "tensor([2., 5.])\n",
      "tensor(3.5000)\n"
     ]
    }
   ],
   "source": [
    "x = torch.tensor([[1, 2, 3], [4, 5, 6]], dtype=torch.float32)\n",
    "z = torch.mean(x, dim=0)  # through height\n",
    "print(z)\n",
    "z = torch.mean(x, dim=1)  # through width\n",
    "print(z)\n",
    "z = torch.mean(x, dim=(0, 1))  # through height and width\n",
    "print(z)"
   ]
  },
  {
   "attachments": {},
   "cell_type": "markdown",
   "metadata": {},
   "source": [
    "**Clamp operation**\n",
    "\n",
    "Clamps all elements in input into the range [ min, max ].​​\n",
    "\n",
    "References:​\n",
    "\n",
    "https://pytorch.org/docs/stable/generated/torch.clamp.html​\n"
   ]
  },
  {
   "cell_type": "code",
   "execution_count": 42,
   "metadata": {},
   "outputs": [
    {
     "name": "stdout",
     "output_type": "stream",
     "text": [
      "tensor(-68.7977) tensor(360.6734)\n",
      "tensor(0.) tensor(255.)\n"
     ]
    }
   ],
   "source": [
    "min = -128\n",
    "max = 365\n",
    "x = (max - min) * torch.rand((2, 5)) + min\n",
    "print(x.min(), x.max())\n",
    "z = torch.clamp(x, min=0, max=255)\n",
    "print(z.min(), z.max())"
   ]
  },
  {
   "attachments": {},
   "cell_type": "markdown",
   "metadata": {},
   "source": [
    "**Indexing**"
   ]
  },
  {
   "cell_type": "code",
   "execution_count": 43,
   "metadata": {},
   "outputs": [
    {
     "name": "stdout",
     "output_type": "stream",
     "text": [
      "torch.Size([64])\n",
      "torch.Size([10])\n",
      "tensor([3, 6, 9])\n",
      "tensor([ 1,  2,  9, 10])\n"
     ]
    }
   ],
   "source": [
    "x = torch.rand((10, 64))\n",
    "print(x[0].shape)\n",
    "print(x[:, 0].shape)\n",
    "\n",
    "x = torch.tensor([1, 2, 3, 4, 5, 6, 7, 8, 9, 10])\n",
    "z = x[[2, 5, 8]]\n",
    "print(z)\n",
    "x = torch.tensor([1, 2, 3, 4, 5, 6, 7, 8, 9, 10])\n",
    "z = x[(x < 3) | (x > 8)]\n",
    "print(z)"
   ]
  },
  {
   "cell_type": "code",
   "execution_count": 44,
   "metadata": {},
   "outputs": [
    {
     "name": "stdout",
     "output_type": "stream",
     "text": [
      "(64,)\n",
      "(10,)\n",
      "[3 6 9]\n",
      "[ 1  2  9 10]\n"
     ]
    }
   ],
   "source": [
    "x = np.random.rand(10, 64)\n",
    "print(x[0].shape)\n",
    "print(x[:, 0].shape)\n",
    "\n",
    "x = np.array([1, 2, 3, 4, 5, 6, 7, 8, 9, 10])\n",
    "z = x[[2, 5, 8]]\n",
    "print(z)\n",
    "x = np.array([1, 2, 3, 4, 5, 6, 7, 8, 9, 10])\n",
    "z = x[(x < 3) | (x > 8)]\n",
    "print(z)"
   ]
  },
  {
   "cell_type": "code",
   "execution_count": 45,
   "metadata": {},
   "outputs": [],
   "source": [
    "# x = [1, 2, 3, 4, 5, 6, 7, 8, 9, 10]\n",
    "# z = x[[2, 5, 8]]\n",
    "# print(z)\n",
    "# x = [1, 2, 3, 4, 5, 6, 7, 8, 9, 10]\n",
    "# z = x[(x<3) | (x>8)]\n",
    "# print(z)"
   ]
  },
  {
   "attachments": {},
   "cell_type": "markdown",
   "metadata": {},
   "source": [
    "**Reshaping​:** Returns a new tensor with the same data as the self tensor but of a different shape.\n",
    "\n",
    "References:​\n",
    "\n",
    "https://pytorch.org/docs/stable/generated/torch.Tensor.view.html"
   ]
  },
  {
   "cell_type": "code",
   "execution_count": 46,
   "metadata": {},
   "outputs": [
    {
     "name": "stdout",
     "output_type": "stream",
     "text": [
      "torch.Size([9])\n",
      "tensor([[1, 2, 3],\n",
      "        [4, 5, 6],\n",
      "        [7, 8, 9]])\n",
      "torch.Size([3, 3])\n",
      "torch.Size([3, 3])\n",
      "tensor([[1, 2, 3],\n",
      "        [4, 5, 6],\n",
      "        [7, 8, 9]])\n"
     ]
    }
   ],
   "source": [
    "x = torch.tensor([1, 2, 3, 4, 5, 6, 7, 8, 9])\n",
    "print(x.size())\n",
    "z = x.view(3, 3)\n",
    "print(z)\n",
    "print(z.size())\n",
    "z = x.view(3, -1)  # if other dimension is not known​\n",
    "print(z.size())\n",
    "print(z)"
   ]
  },
  {
   "attachments": {},
   "cell_type": "markdown",
   "metadata": {},
   "source": [
    "**Transpose​:** Performs tranpose of matrix\n",
    "\n",
    "References:​\n",
    "\n",
    "https://pytorch.org/docs/stable/generated/torch.t.html​\n"
   ]
  },
  {
   "cell_type": "code",
   "execution_count": 47,
   "metadata": {},
   "outputs": [
    {
     "name": "stdout",
     "output_type": "stream",
     "text": [
      "tensor([[0.0392, 0.8188, 0.2792],\n",
      "        [0.6231, 0.4237, 0.0653],\n",
      "        [0.1713, 0.5638, 0.1543]])\n",
      "tensor([[0.0392, 0.6231, 0.1713],\n",
      "        [0.8188, 0.4237, 0.5638],\n",
      "        [0.2792, 0.0653, 0.1543]])\n"
     ]
    }
   ],
   "source": [
    "x = torch.rand(size=(3, 3))\n",
    "print(x)\n",
    "z = x.t()\n",
    "print(z)"
   ]
  },
  {
   "attachments": {},
   "cell_type": "markdown",
   "metadata": {},
   "source": [
    "**Flatten:​** Flattens input by reshaping it into a one-dimensional tensor\n",
    "\n",
    "References:\n",
    "\n",
    "https://pytorch.org/docs/stable/generated/torch.flatten.html"
   ]
  },
  {
   "cell_type": "code",
   "execution_count": 48,
   "metadata": {},
   "outputs": [
    {
     "name": "stdout",
     "output_type": "stream",
     "text": [
      "tensor([[0.1668, 0.0044, 0.8219],\n",
      "        [0.9732, 0.2644, 0.2318],\n",
      "        [0.4089, 0.1373, 0.6784]])\n",
      "tensor([0.1668, 0.0044, 0.8219, 0.9732, 0.2644, 0.2318, 0.4089, 0.1373, 0.6784])\n",
      "tensor([0.1668, 0.0044, 0.8219, 0.9732, 0.2644, 0.2318, 0.4089, 0.1373, 0.6784])\n"
     ]
    }
   ],
   "source": [
    "x = torch.rand(size=(3, 3))\n",
    "print(x)\n",
    "z = torch.flatten(x)\n",
    "print(z)\n",
    "\n",
    "z = x.view(-1)\n",
    "print(z)"
   ]
  },
  {
   "attachments": {},
   "cell_type": "markdown",
   "metadata": {},
   "source": [
    "**Concat operation​:** Concatenates the given sequence tensors in the given dimension. All tensors must either have the same shape (except in the concatenating dimension) or be empty.\n",
    "​\n",
    "\n",
    "References:​\n",
    "\n",
    "https://pytorch.org/docs/stable/generated/torch.cat.html​"
   ]
  },
  {
   "cell_type": "code",
   "execution_count": 49,
   "metadata": {},
   "outputs": [
    {
     "name": "stdout",
     "output_type": "stream",
     "text": [
      "torch.Size([10, 3, 128, 128])\n",
      "torch.Size([10, 3, 128, 128])\n",
      "torch.Size([20, 3, 128, 128])\n",
      "torch.Size([10, 6, 128, 128])\n"
     ]
    }
   ],
   "source": [
    "x = torch.rand(size=(10, 3, 128, 128))\n",
    "y = torch.rand(size=(10, 3, 128, 128))\n",
    "print(x.size())\n",
    "print(y.size())\n",
    "\n",
    "z = torch.cat([x, y], dim=0)\n",
    "print(z.size())\n",
    "\n",
    "z = torch.cat([x, y], dim=1)\n",
    "print(z.size())"
   ]
  },
  {
   "attachments": {},
   "cell_type": "markdown",
   "metadata": {},
   "source": [
    "**Dimension switch:​** Returns a view of the original tensor input with its dimensions permuted.\n",
    "\n",
    "\n",
    "References:​\n",
    "\n",
    "https://pytorch.org/docs/stable/generated/torch.permute.html​"
   ]
  },
  {
   "cell_type": "code",
   "execution_count": 50,
   "metadata": {},
   "outputs": [
    {
     "name": "stdout",
     "output_type": "stream",
     "text": [
      "torch.Size([10, 3, 128, 128])\n",
      "torch.Size([10, 128, 128, 3])\n"
     ]
    }
   ],
   "source": [
    "x = torch.rand(size=(10, 3, 128, 128))\n",
    "print(x.shape)\n",
    "z = x.permute(0, 2, 3, 1)\n",
    "print(z.size())"
   ]
  },
  {
   "attachments": {},
   "cell_type": "markdown",
   "metadata": {},
   "source": [
    "**Adding or Removing extra dimension​:**\n",
    "\n",
    "Squeeze: Returns a tensor with all the dimensions of input of size 1 removed.\n",
    "\n",
    "Unsqueeze: Returns a new tensor with a dimension of size one inserted at the specified position.\n",
    "\n",
    "References:​\n",
    "\n",
    "https://pytorch.org/docs/stable/generated/torch.squeeze.html​\n",
    "\n",
    "https://pytorch.org/docs/stable/generated/torch.unsqueeze.html​"
   ]
  },
  {
   "cell_type": "code",
   "execution_count": 51,
   "metadata": {},
   "outputs": [
    {
     "name": "stdout",
     "output_type": "stream",
     "text": [
      "torch.Size([3, 128, 128])\n",
      "torch.Size([1, 3, 128, 128])\n",
      "torch.Size([3, 128, 128])\n"
     ]
    }
   ],
   "source": [
    "x = torch.rand(size=(3, 128, 128))\n",
    "print(x.size())\n",
    "z = x.unsqueeze(0)\n",
    "print(z.size())\n",
    "y = z.squeeze(0)\n",
    "print(y.size())"
   ]
  },
  {
   "cell_type": "code",
   "execution_count": null,
   "metadata": {},
   "outputs": [],
   "source": []
  }
 ],
 "metadata": {
  "kernelspec": {
   "display_name": "Python 3 (ipykernel)",
   "language": "python",
   "name": "python3"
  },
  "language_info": {
   "codemirror_mode": {
    "name": "ipython",
    "version": 3
   },
   "file_extension": ".py",
   "mimetype": "text/x-python",
   "name": "python",
   "nbconvert_exporter": "python",
   "pygments_lexer": "ipython3",
   "version": "3.10.4"
  },
  "orig_nbformat": 4,
  "vscode": {
   "interpreter": {
    "hash": "fb41d5f3b6287522a8101e9df2ff5c7654649e30b04e8911d8b922634c042846"
   }
  }
 },
 "nbformat": 4,
 "nbformat_minor": 2
}
